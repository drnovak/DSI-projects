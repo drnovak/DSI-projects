{
 "cells": [
  {
   "cell_type": "markdown",
   "metadata": {},
   "source": [
    "# Getting started\n",
    "\n",
    "Once you've chosen your scenario, download the data from [the Iowa website](https://data.iowa.gov/Economy/Iowa-Liquor-Sales/m3tr-qhgy) in csv format. Start by loading the data with pandas. You may need to parse the date columns appropriately."
   ]
  },
  {
   "cell_type": "code",
   "execution_count": 1,
   "metadata": {
    "collapsed": false
   },
   "outputs": [],
   "source": [
    "import pandas as pd\n",
    "import numpy as np"
   ]
  },
  {
   "cell_type": "code",
   "execution_count": 2,
   "metadata": {
    "collapsed": false
   },
   "outputs": [
    {
     "name": "stderr",
     "output_type": "stream",
     "text": [
      "/anaconda/anaconda/lib/python2.7/site-packages/IPython/core/interactiveshell.py:2723: DtypeWarning: Columns (3) have mixed types. Specify dtype option on import or set low_memory=False.\n",
      "  interactivity=interactivity, compiler=compiler, result=result)\n"
     ]
    },
    {
     "data": {
      "text/html": [
       "<div>\n",
       "<table border=\"1\" class=\"dataframe\">\n",
       "  <thead>\n",
       "    <tr style=\"text-align: right;\">\n",
       "      <th></th>\n",
       "      <th>Date</th>\n",
       "      <th>Store Number</th>\n",
       "      <th>City</th>\n",
       "      <th>Zip Code</th>\n",
       "      <th>County Number</th>\n",
       "      <th>County</th>\n",
       "      <th>Category</th>\n",
       "      <th>Category Name</th>\n",
       "      <th>Vendor Number</th>\n",
       "      <th>Item Number</th>\n",
       "      <th>Item Description</th>\n",
       "      <th>Bottle Volume (ml)</th>\n",
       "      <th>State Bottle Cost</th>\n",
       "      <th>State Bottle Retail</th>\n",
       "      <th>Bottles Sold</th>\n",
       "      <th>Sale (Dollars)</th>\n",
       "      <th>Volume Sold (Liters)</th>\n",
       "      <th>Volume Sold (Gallons)</th>\n",
       "    </tr>\n",
       "  </thead>\n",
       "  <tbody>\n",
       "    <tr>\n",
       "      <th>0</th>\n",
       "      <td>03/31/2016</td>\n",
       "      <td>5029</td>\n",
       "      <td>DAVENPORT</td>\n",
       "      <td>52806</td>\n",
       "      <td>82.0</td>\n",
       "      <td>Scott</td>\n",
       "      <td>1022100.0</td>\n",
       "      <td>TEQUILA</td>\n",
       "      <td>370</td>\n",
       "      <td>87152</td>\n",
       "      <td>Avion Silver</td>\n",
       "      <td>375</td>\n",
       "      <td>$9.99</td>\n",
       "      <td>$14.99</td>\n",
       "      <td>12</td>\n",
       "      <td>$179.88</td>\n",
       "      <td>4.5</td>\n",
       "      <td>1.19</td>\n",
       "    </tr>\n",
       "    <tr>\n",
       "      <th>1</th>\n",
       "      <td>03/31/2016</td>\n",
       "      <td>5029</td>\n",
       "      <td>DAVENPORT</td>\n",
       "      <td>52806</td>\n",
       "      <td>82.0</td>\n",
       "      <td>Scott</td>\n",
       "      <td>1022100.0</td>\n",
       "      <td>TEQUILA</td>\n",
       "      <td>395</td>\n",
       "      <td>89197</td>\n",
       "      <td>Jose Cuervo Especial Reposado Tequila</td>\n",
       "      <td>1000</td>\n",
       "      <td>$12.50</td>\n",
       "      <td>$18.75</td>\n",
       "      <td>2</td>\n",
       "      <td>$37.50</td>\n",
       "      <td>2.0</td>\n",
       "      <td>0.53</td>\n",
       "    </tr>\n",
       "  </tbody>\n",
       "</table>\n",
       "</div>"
      ],
      "text/plain": [
       "         Date  Store Number       City Zip Code  County Number County  \\\n",
       "0  03/31/2016          5029  DAVENPORT    52806           82.0  Scott   \n",
       "1  03/31/2016          5029  DAVENPORT    52806           82.0  Scott   \n",
       "\n",
       "    Category Category Name  Vendor Number  Item Number  \\\n",
       "0  1022100.0       TEQUILA            370        87152   \n",
       "1  1022100.0       TEQUILA            395        89197   \n",
       "\n",
       "                        Item Description  Bottle Volume (ml)  \\\n",
       "0                           Avion Silver                 375   \n",
       "1  Jose Cuervo Especial Reposado Tequila                1000   \n",
       "\n",
       "  State Bottle Cost State Bottle Retail  Bottles Sold Sale (Dollars)  \\\n",
       "0             $9.99              $14.99            12        $179.88   \n",
       "1            $12.50              $18.75             2         $37.50   \n",
       "\n",
       "   Volume Sold (Liters)  Volume Sold (Gallons)  \n",
       "0                   4.5                   1.19  \n",
       "1                   2.0                   0.53  "
      ]
     },
     "execution_count": 2,
     "metadata": {},
     "output_type": "execute_result"
    }
   ],
   "source": [
    "# Load the data into a DataFrame\n",
    "df = pd.read_csv('iowa_liquor_sales.csv')\n",
    "df.head(2)\n",
    "\n",
    "## Transform the dates if needed, e.g.\n",
    "# df[\"Date\"] = pd.to_datetime(df[\"Date\"], format=\"%m-%d-%y\")"
   ]
  },
  {
   "cell_type": "code",
   "execution_count": 3,
   "metadata": {
    "collapsed": false,
    "scrolled": false
   },
   "outputs": [
    {
     "data": {
      "text/plain": [
       "Date                      object\n",
       "Store Number               int64\n",
       "City                      object\n",
       "Zip Code                  object\n",
       "County Number            float64\n",
       "County                    object\n",
       "Category                 float64\n",
       "Category Name             object\n",
       "Vendor Number              int64\n",
       "Item Number                int64\n",
       "Item Description          object\n",
       "Bottle Volume (ml)         int64\n",
       "State Bottle Cost         object\n",
       "State Bottle Retail       object\n",
       "Bottles Sold               int64\n",
       "Sale (Dollars)            object\n",
       "Volume Sold (Liters)     float64\n",
       "Volume Sold (Gallons)    float64\n",
       "dtype: object"
      ]
     },
     "execution_count": 3,
     "metadata": {},
     "output_type": "execute_result"
    }
   ],
   "source": [
    "df.dtypes"
   ]
  },
  {
   "cell_type": "code",
   "execution_count": 4,
   "metadata": {
    "collapsed": false
   },
   "outputs": [],
   "source": [
    "#reformatted dates\n",
    "df[\"Date\"] = pd.to_datetime(df[\"Date\"], format=\"%m/%d/%Y\")"
   ]
  },
  {
   "cell_type": "code",
   "execution_count": 5,
   "metadata": {
    "collapsed": false,
    "scrolled": true
   },
   "outputs": [
    {
     "data": {
      "text/plain": [
       "0   2016-03-31\n",
       "1   2016-03-31\n",
       "Name: Date, dtype: datetime64[ns]"
      ]
     },
     "execution_count": 5,
     "metadata": {},
     "output_type": "execute_result"
    }
   ],
   "source": [
    "df['Date'].head(2)"
   ]
  },
  {
   "cell_type": "code",
   "execution_count": 6,
   "metadata": {
    "collapsed": false
   },
   "outputs": [],
   "source": [
    "#remove '$' from columns\n",
    "\n",
    "df['State Bottle Cost'] = df['State Bottle Cost'].apply(lambda x: float(x.strip('$')))\n",
    "df['State Bottle Retail'] = df['State Bottle Retail'].apply(lambda x: float(x.strip('$')))\n",
    "df['Sale (Dollars)'] = df['Sale (Dollars)'].apply(lambda x: float(x.strip('$')))"
   ]
  },
  {
   "cell_type": "code",
   "execution_count": 7,
   "metadata": {
    "collapsed": false
   },
   "outputs": [
    {
     "data": {
      "text/html": [
       "<div>\n",
       "<table border=\"1\" class=\"dataframe\">\n",
       "  <thead>\n",
       "    <tr style=\"text-align: right;\">\n",
       "      <th></th>\n",
       "      <th>Date</th>\n",
       "      <th>Store Number</th>\n",
       "      <th>City</th>\n",
       "      <th>Zip Code</th>\n",
       "      <th>County Number</th>\n",
       "      <th>County</th>\n",
       "      <th>Category</th>\n",
       "      <th>Category Name</th>\n",
       "      <th>Vendor Number</th>\n",
       "      <th>Item Number</th>\n",
       "      <th>Item Description</th>\n",
       "      <th>Bottle Volume</th>\n",
       "      <th>State Bottle Cost</th>\n",
       "      <th>State Bottle Retail</th>\n",
       "      <th>Bottles Sold</th>\n",
       "      <th>Sale (Dollars)</th>\n",
       "      <th>Volume Sold (Liters)</th>\n",
       "      <th>Volume Sold (Gallons)</th>\n",
       "    </tr>\n",
       "  </thead>\n",
       "  <tbody>\n",
       "    <tr>\n",
       "      <th>0</th>\n",
       "      <td>2016-03-31</td>\n",
       "      <td>5029</td>\n",
       "      <td>DAVENPORT</td>\n",
       "      <td>52806</td>\n",
       "      <td>82.0</td>\n",
       "      <td>Scott</td>\n",
       "      <td>1022100.0</td>\n",
       "      <td>TEQUILA</td>\n",
       "      <td>370</td>\n",
       "      <td>87152</td>\n",
       "      <td>Avion Silver</td>\n",
       "      <td>375</td>\n",
       "      <td>9.99</td>\n",
       "      <td>14.99</td>\n",
       "      <td>12</td>\n",
       "      <td>179.88</td>\n",
       "      <td>4.5</td>\n",
       "      <td>1.19</td>\n",
       "    </tr>\n",
       "    <tr>\n",
       "      <th>1</th>\n",
       "      <td>2016-03-31</td>\n",
       "      <td>5029</td>\n",
       "      <td>DAVENPORT</td>\n",
       "      <td>52806</td>\n",
       "      <td>82.0</td>\n",
       "      <td>Scott</td>\n",
       "      <td>1022100.0</td>\n",
       "      <td>TEQUILA</td>\n",
       "      <td>395</td>\n",
       "      <td>89197</td>\n",
       "      <td>Jose Cuervo Especial Reposado Tequila</td>\n",
       "      <td>1000</td>\n",
       "      <td>12.50</td>\n",
       "      <td>18.75</td>\n",
       "      <td>2</td>\n",
       "      <td>37.50</td>\n",
       "      <td>2.0</td>\n",
       "      <td>0.53</td>\n",
       "    </tr>\n",
       "  </tbody>\n",
       "</table>\n",
       "</div>"
      ],
      "text/plain": [
       "        Date  Store Number       City Zip Code  County Number County  \\\n",
       "0 2016-03-31          5029  DAVENPORT    52806           82.0  Scott   \n",
       "1 2016-03-31          5029  DAVENPORT    52806           82.0  Scott   \n",
       "\n",
       "    Category Category Name  Vendor Number  Item Number  \\\n",
       "0  1022100.0       TEQUILA            370        87152   \n",
       "1  1022100.0       TEQUILA            395        89197   \n",
       "\n",
       "                        Item Description  Bottle Volume  State Bottle Cost  \\\n",
       "0                           Avion Silver            375               9.99   \n",
       "1  Jose Cuervo Especial Reposado Tequila           1000              12.50   \n",
       "\n",
       "   State Bottle Retail  Bottles Sold  Sale (Dollars)  Volume Sold (Liters)  \\\n",
       "0                14.99            12          179.88                   4.5   \n",
       "1                18.75             2           37.50                   2.0   \n",
       "\n",
       "   Volume Sold (Gallons)  \n",
       "0                   1.19  \n",
       "1                   0.53  "
      ]
     },
     "execution_count": 7,
     "metadata": {},
     "output_type": "execute_result"
    }
   ],
   "source": [
    "df.rename(columns = {'Bottle Volume (ml)': 'Bottle Volume'}, inplace=True)\n",
    "df.head(2)"
   ]
  },
  {
   "cell_type": "markdown",
   "metadata": {},
   "source": [
    "# Explore the data\n",
    "\n",
    "Perform some exploratory statistical analysis and make some plots, such as histograms of transaction totals, bottles sold, etc."
   ]
  },
  {
   "cell_type": "code",
   "execution_count": 8,
   "metadata": {
    "collapsed": true
   },
   "outputs": [],
   "source": [
    "from matplotlib import pyplot as plt\n",
    "%matplotlib inline\n",
    "import seaborn as sns"
   ]
  },
  {
   "cell_type": "code",
   "execution_count": 9,
   "metadata": {
    "collapsed": false,
    "scrolled": true
   },
   "outputs": [
    {
     "data": {
      "text/html": [
       "<div>\n",
       "<table border=\"1\" class=\"dataframe\">\n",
       "  <thead>\n",
       "    <tr style=\"text-align: right;\">\n",
       "      <th></th>\n",
       "      <th>Date</th>\n",
       "      <th>Store Number</th>\n",
       "      <th>City</th>\n",
       "      <th>Zip Code</th>\n",
       "      <th>County Number</th>\n",
       "      <th>County</th>\n",
       "      <th>Category</th>\n",
       "      <th>Category Name</th>\n",
       "      <th>Vendor Number</th>\n",
       "      <th>Item Number</th>\n",
       "      <th>Item Description</th>\n",
       "      <th>Bottle Volume</th>\n",
       "      <th>State Bottle Cost</th>\n",
       "      <th>State Bottle Retail</th>\n",
       "      <th>Bottles Sold</th>\n",
       "      <th>Sale (Dollars)</th>\n",
       "      <th>Volume Sold (Liters)</th>\n",
       "      <th>Volume Sold (Gallons)</th>\n",
       "    </tr>\n",
       "  </thead>\n",
       "  <tbody>\n",
       "    <tr>\n",
       "      <th>0</th>\n",
       "      <td>2016-03-31</td>\n",
       "      <td>5029</td>\n",
       "      <td>DAVENPORT</td>\n",
       "      <td>52806</td>\n",
       "      <td>82.0</td>\n",
       "      <td>Scott</td>\n",
       "      <td>1022100.0</td>\n",
       "      <td>TEQUILA</td>\n",
       "      <td>370</td>\n",
       "      <td>87152</td>\n",
       "      <td>Avion Silver</td>\n",
       "      <td>375</td>\n",
       "      <td>9.99</td>\n",
       "      <td>14.99</td>\n",
       "      <td>12</td>\n",
       "      <td>179.88</td>\n",
       "      <td>4.5</td>\n",
       "      <td>1.19</td>\n",
       "    </tr>\n",
       "    <tr>\n",
       "      <th>1</th>\n",
       "      <td>2016-03-31</td>\n",
       "      <td>5029</td>\n",
       "      <td>DAVENPORT</td>\n",
       "      <td>52806</td>\n",
       "      <td>82.0</td>\n",
       "      <td>Scott</td>\n",
       "      <td>1022100.0</td>\n",
       "      <td>TEQUILA</td>\n",
       "      <td>395</td>\n",
       "      <td>89197</td>\n",
       "      <td>Jose Cuervo Especial Reposado Tequila</td>\n",
       "      <td>1000</td>\n",
       "      <td>12.50</td>\n",
       "      <td>18.75</td>\n",
       "      <td>2</td>\n",
       "      <td>37.50</td>\n",
       "      <td>2.0</td>\n",
       "      <td>0.53</td>\n",
       "    </tr>\n",
       "  </tbody>\n",
       "</table>\n",
       "</div>"
      ],
      "text/plain": [
       "        Date  Store Number       City Zip Code  County Number County  \\\n",
       "0 2016-03-31          5029  DAVENPORT    52806           82.0  Scott   \n",
       "1 2016-03-31          5029  DAVENPORT    52806           82.0  Scott   \n",
       "\n",
       "    Category Category Name  Vendor Number  Item Number  \\\n",
       "0  1022100.0       TEQUILA            370        87152   \n",
       "1  1022100.0       TEQUILA            395        89197   \n",
       "\n",
       "                        Item Description  Bottle Volume  State Bottle Cost  \\\n",
       "0                           Avion Silver            375               9.99   \n",
       "1  Jose Cuervo Especial Reposado Tequila           1000              12.50   \n",
       "\n",
       "   State Bottle Retail  Bottles Sold  Sale (Dollars)  Volume Sold (Liters)  \\\n",
       "0                14.99            12          179.88                   4.5   \n",
       "1                18.75             2           37.50                   2.0   \n",
       "\n",
       "   Volume Sold (Gallons)  \n",
       "0                   1.19  \n",
       "1                   0.53  "
      ]
     },
     "execution_count": 9,
     "metadata": {},
     "output_type": "execute_result"
    }
   ],
   "source": [
    "df.head(2)"
   ]
  },
  {
   "cell_type": "code",
   "execution_count": 10,
   "metadata": {
    "collapsed": false
   },
   "outputs": [
    {
     "data": {
      "text/plain": [
       "Index([u'Date', u'Store Number', u'City', u'Zip Code', u'County Number',\n",
       "       u'County', u'Category', u'Category Name', u'Vendor Number',\n",
       "       u'Item Number', u'Item Description', u'Bottle Volume',\n",
       "       u'State Bottle Cost', u'State Bottle Retail', u'Bottles Sold',\n",
       "       u'Sale (Dollars)', u'Volume Sold (Liters)', u'Volume Sold (Gallons)'],\n",
       "      dtype='object')"
      ]
     },
     "execution_count": 10,
     "metadata": {},
     "output_type": "execute_result"
    }
   ],
   "source": [
    "df.columns"
   ]
  },
  {
   "cell_type": "code",
   "execution_count": 11,
   "metadata": {
    "collapsed": false,
    "scrolled": true
   },
   "outputs": [
    {
     "data": {
      "text/plain": [
       "9.81620942870891"
      ]
     },
     "execution_count": 11,
     "metadata": {},
     "output_type": "execute_result"
    }
   ],
   "source": [
    "df['State Bottle Cost'].mean()"
   ]
  },
  {
   "cell_type": "code",
   "execution_count": 12,
   "metadata": {
    "collapsed": false,
    "scrolled": true
   },
   "outputs": [
    {
     "data": {
      "text/plain": [
       "14.740117521274758"
      ]
     },
     "execution_count": 12,
     "metadata": {},
     "output_type": "execute_result"
    }
   ],
   "source": [
    "df['State Bottle Retail'].mean()"
   ]
  },
  {
   "cell_type": "code",
   "execution_count": 13,
   "metadata": {
    "collapsed": false
   },
   "outputs": [
    {
     "data": {
      "text/plain": [
       "9.838389888808187"
      ]
     },
     "execution_count": 13,
     "metadata": {},
     "output_type": "execute_result"
    }
   ],
   "source": [
    "df['Bottles Sold'].mean()"
   ]
  },
  {
   "cell_type": "code",
   "execution_count": 14,
   "metadata": {
    "collapsed": false
   },
   "outputs": [
    {
     "data": {
      "text/plain": [
       "129.11910023830947"
      ]
     },
     "execution_count": 14,
     "metadata": {},
     "output_type": "execute_result"
    }
   ],
   "source": [
    "df['Sale (Dollars)'].mean()"
   ]
  },
  {
   "cell_type": "code",
   "execution_count": 15,
   "metadata": {
    "collapsed": false
   },
   "outputs": [
    {
     "data": {
      "text/plain": [
       "924.2111260459294"
      ]
     },
     "execution_count": 15,
     "metadata": {},
     "output_type": "execute_result"
    }
   ],
   "source": [
    "df['Bottle Volume'].mean()"
   ]
  },
  {
   "cell_type": "code",
   "execution_count": 16,
   "metadata": {
    "collapsed": false,
    "scrolled": false
   },
   "outputs": [
    {
     "name": "stdout",
     "output_type": "stream",
     "text": [
      "Store Number  Zip Code\n",
      "4926          50322        20.04\n",
      "4874          52641        70.32\n",
      "4861          52404        89.16\n",
      "4703          51101       120.24\n",
      "4852          52404       140.64\n",
      "4757          50035       159.06\n",
      "5076          51106       172.80\n",
      "4735          52501       173.76\n",
      "4796          50321       173.76\n",
      "4821          52577       219.12\n",
      "Name: Sale (Dollars), dtype: float64\n",
      "Store Number  Zip Code\n",
      "3354          52807        2791626.27\n",
      "3773          52401        2846275.25\n",
      "2670          52241        2939714.05\n",
      "3814          50266        3228425.04\n",
      "3952          52722        3660068.45\n",
      "3420          50311        3818165.13\n",
      "3385          52402        4499578.83\n",
      "2512          52240        5094112.61\n",
      "4829          50314       10677520.03\n",
      "2633          50320       11865805.85\n",
      "Name: Sale (Dollars), dtype: float64\n"
     ]
    }
   ],
   "source": [
    "df_sorted = df.groupby(['Store Number', 'Zip Code'])['Sale (Dollars)'].sum().sort_values()\n",
    "print df_sorted.head(10)\n",
    "print df_sorted.tail(10)"
   ]
  },
  {
   "cell_type": "code",
   "execution_count": 17,
   "metadata": {
    "collapsed": false
   },
   "outputs": [
    {
     "name": "stdout",
     "output_type": "stream",
     "text": [
      "City             Store Number\n",
      "COUNCIL BLUFFS   5056            16.226333\n",
      "CHARITON         5218            19.455806\n",
      "WEST BRANCH      4170            22.599439\n",
      "WEST DES MOINES  4773            24.135070\n",
      "URBANDALE        4939            26.062791\n",
      "MOUNT PLEASANT   4874            26.123585\n",
      "BLUE GRASS       4967            26.448506\n",
      "DES MOINES       5136            26.856530\n",
      "CEDAR RAPIDS     5176            27.307604\n",
      "WILTON           5070            27.803145\n",
      "Name: Sale (Dollars), dtype: float64\n",
      "City             Store Number\n",
      "SWISHER          9001             721.130909\n",
      "SIOUX CITY       3447             742.418559\n",
      "LECLAIRE         9002             744.686653\n",
      "CEDAR RAPIDS     3385             775.743731\n",
      "WINDSOR HEIGHTS  3420            1038.886905\n",
      "Carroll          9023            1090.786667\n",
      "CORALVILLE       4677            1744.856776\n",
      "Davenport        9022            2321.760000\n",
      "WEST DES MOINES  3814            2350.002821\n",
      "Dubuque          9018            7275.000000\n",
      "Name: Sale (Dollars), dtype: float64\n"
     ]
    }
   ],
   "source": [
    "df_sorted_city = df.groupby(['City', 'Store Number'])['Sale (Dollars)'].mean().sort_values()\n",
    "print df_sorted_city.head(10)\n",
    "print df_sorted_city.tail(10)"
   ]
  },
  {
   "cell_type": "code",
   "execution_count": 18,
   "metadata": {
    "collapsed": false,
    "scrolled": false
   },
   "outputs": [
    {
     "name": "stdout",
     "output_type": "stream",
     "text": [
      "8.25     61549\n",
      "6.50     48647\n",
      "9.00     43436\n",
      "10.00    42490\n",
      "10.49    40135\n",
      "Name: State Bottle Cost, dtype: int64\n"
     ]
    }
   ],
   "source": [
    "#Most/least common prices for State Bottle Cost\n",
    "print df['State Bottle Cost'].value_counts().head()"
   ]
  },
  {
   "cell_type": "code",
   "execution_count": 19,
   "metadata": {
    "collapsed": false,
    "scrolled": false
   },
   "outputs": [
    {
     "data": {
      "text/html": [
       "<div>\n",
       "<table border=\"1\" class=\"dataframe\">\n",
       "  <thead>\n",
       "    <tr style=\"text-align: right;\">\n",
       "      <th></th>\n",
       "      <th>cost</th>\n",
       "      <th># of bottles</th>\n",
       "    </tr>\n",
       "  </thead>\n",
       "  <tbody>\n",
       "    <tr>\n",
       "      <th>0</th>\n",
       "      <td>8.25</td>\n",
       "      <td>61549</td>\n",
       "    </tr>\n",
       "    <tr>\n",
       "      <th>1</th>\n",
       "      <td>6.50</td>\n",
       "      <td>48647</td>\n",
       "    </tr>\n",
       "  </tbody>\n",
       "</table>\n",
       "</div>"
      ],
      "text/plain": [
       "   cost  # of bottles\n",
       "0  8.25         61549\n",
       "1  6.50         48647"
      ]
     },
     "execution_count": 19,
     "metadata": {},
     "output_type": "execute_result"
    }
   ],
   "source": [
    "#Most/least common prices for State Bottle Cost\n",
    "state_bottle_cost = pd.DataFrame(df['State Bottle Cost'].value_counts()).reset_index()\n",
    "state_bottle_cost.columns = ('cost', '# of bottles')\n",
    "state_bottle_cost.head(2)"
   ]
  },
  {
   "cell_type": "code",
   "execution_count": 20,
   "metadata": {
    "collapsed": false
   },
   "outputs": [
    {
     "data": {
      "text/plain": [
       "count    1471.000000\n",
       "mean       46.759137\n",
       "std       353.703832\n",
       "min         0.890000\n",
       "25%         7.575000\n",
       "50%        14.050000\n",
       "75%        26.345000\n",
       "max      6468.000000\n",
       "Name: cost, dtype: float64"
      ]
     },
     "execution_count": 20,
     "metadata": {},
     "output_type": "execute_result"
    }
   ],
   "source": [
    "state_bottle_cost['cost'].describe()"
   ]
  },
  {
   "cell_type": "code",
   "execution_count": 21,
   "metadata": {
    "collapsed": false
   },
   "outputs": [
    {
     "data": {
      "text/plain": [
       "<matplotlib.text.Text at 0x11a783c90>"
      ]
     },
     "execution_count": 21,
     "metadata": {},
     "output_type": "execute_result"
    },
    {
     "data": {
      "image/png": "[encoded data removed]",
      "text/plain": [
       "<matplotlib.figure.Figure at 0x11a69f350>"
      ]
     },
     "metadata": {},
     "output_type": "display_data"
    }
   ],
   "source": [
    "plt.bar(state_bottle_cost['cost'], state_bottle_cost['# of bottles'])\n",
    "plt.xlim(0, 60)\n",
    "plt.ylim(0, 65000)\n",
    "plt.ylabel(\"# of Bottles Sold\")\n",
    "plt.xlabel(\"Price in Dollars\")\n",
    "plt.title(\"State Bottle Cost\")"
   ]
  },
  {
   "cell_type": "code",
   "execution_count": 22,
   "metadata": {
    "collapsed": false,
    "scrolled": true
   },
   "outputs": [
    {
     "name": "stdout",
     "output_type": "stream",
     "text": [
      "12.38    61549\n",
      "9.75     49084\n",
      "13.50    43942\n",
      "15.00    42567\n",
      "15.74    38370\n",
      "Name: State Bottle Retail, dtype: int64\n"
     ]
    }
   ],
   "source": [
    "#Most/least common prices for State Bottle Retail\n",
    "print df['State Bottle Retail'].value_counts().head()"
   ]
  },
  {
   "cell_type": "code",
   "execution_count": 23,
   "metadata": {
    "collapsed": false
   },
   "outputs": [
    {
     "data": {
      "text/html": [
       "<div>\n",
       "<table border=\"1\" class=\"dataframe\">\n",
       "  <thead>\n",
       "    <tr style=\"text-align: right;\">\n",
       "      <th></th>\n",
       "      <th>retail</th>\n",
       "      <th># of bottles</th>\n",
       "    </tr>\n",
       "  </thead>\n",
       "  <tbody>\n",
       "    <tr>\n",
       "      <th>0</th>\n",
       "      <td>12.38</td>\n",
       "      <td>61549</td>\n",
       "    </tr>\n",
       "    <tr>\n",
       "      <th>1</th>\n",
       "      <td>9.75</td>\n",
       "      <td>49084</td>\n",
       "    </tr>\n",
       "  </tbody>\n",
       "</table>\n",
       "</div>"
      ],
      "text/plain": [
       "   retail  # of bottles\n",
       "0   12.38         61549\n",
       "1    9.75         49084"
      ]
     },
     "execution_count": 23,
     "metadata": {},
     "output_type": "execute_result"
    }
   ],
   "source": [
    "#Most/least common prices for State Bottle Cost\n",
    "state_bottle_retail = pd.DataFrame(df['State Bottle Retail'].value_counts()).reset_index()\n",
    "state_bottle_retail.columns = ('retail', '# of bottles')\n",
    "state_bottle_retail.head(2)"
   ]
  },
  {
   "cell_type": "code",
   "execution_count": 24,
   "metadata": {
    "collapsed": false,
    "scrolled": false
   },
   "outputs": [
    {
     "data": {
      "text/html": [
       "<div>\n",
       "<table border=\"1\" class=\"dataframe\">\n",
       "  <thead>\n",
       "    <tr style=\"text-align: right;\">\n",
       "      <th></th>\n",
       "      <th>retail</th>\n",
       "      <th># of bottles</th>\n",
       "    </tr>\n",
       "  </thead>\n",
       "  <tbody>\n",
       "    <tr>\n",
       "      <th>0</th>\n",
       "      <td>12.38</td>\n",
       "      <td>61549</td>\n",
       "    </tr>\n",
       "    <tr>\n",
       "      <th>1</th>\n",
       "      <td>9.75</td>\n",
       "      <td>49084</td>\n",
       "    </tr>\n",
       "    <tr>\n",
       "      <th>2</th>\n",
       "      <td>13.50</td>\n",
       "      <td>43942</td>\n",
       "    </tr>\n",
       "    <tr>\n",
       "      <th>3</th>\n",
       "      <td>15.00</td>\n",
       "      <td>42567</td>\n",
       "    </tr>\n",
       "    <tr>\n",
       "      <th>4</th>\n",
       "      <td>15.74</td>\n",
       "      <td>38370</td>\n",
       "    </tr>\n",
       "    <tr>\n",
       "      <th>5</th>\n",
       "      <td>22.50</td>\n",
       "      <td>37583</td>\n",
       "    </tr>\n",
       "    <tr>\n",
       "      <th>6</th>\n",
       "      <td>10.76</td>\n",
       "      <td>29630</td>\n",
       "    </tr>\n",
       "    <tr>\n",
       "      <th>7</th>\n",
       "      <td>11.21</td>\n",
       "      <td>28936</td>\n",
       "    </tr>\n",
       "    <tr>\n",
       "      <th>8</th>\n",
       "      <td>10.50</td>\n",
       "      <td>27669</td>\n",
       "    </tr>\n",
       "    <tr>\n",
       "      <th>9</th>\n",
       "      <td>9.45</td>\n",
       "      <td>27472</td>\n",
       "    </tr>\n",
       "  </tbody>\n",
       "</table>\n",
       "</div>"
      ],
      "text/plain": [
       "   retail  # of bottles\n",
       "0   12.38         61549\n",
       "1    9.75         49084\n",
       "2   13.50         43942\n",
       "3   15.00         42567\n",
       "4   15.74         38370\n",
       "5   22.50         37583\n",
       "6   10.76         29630\n",
       "7   11.21         28936\n",
       "8   10.50         27669\n",
       "9    9.45         27472"
      ]
     },
     "execution_count": 24,
     "metadata": {},
     "output_type": "execute_result"
    }
   ],
   "source": [
    "#Most/least common prices for State Bottle Retail Price\n",
    "state_bottle_retail = pd.DataFrame(df['State Bottle Retail'].value_counts()).reset_index()\n",
    "state_bottle_retail.columns = ('retail', '# of bottles')\n",
    "state_bottle_retail.head(10)\n",
    "# print df['State Bottle Retail'].value_counts().tail()"
   ]
  },
  {
   "cell_type": "code",
   "execution_count": 25,
   "metadata": {
    "collapsed": false,
    "scrolled": true
   },
   "outputs": [
    {
     "data": {
      "text/plain": [
       "count    1525.000000\n",
       "mean       68.367410\n",
       "std       521.158133\n",
       "min         1.340000\n",
       "25%        11.330000\n",
       "50%        20.990000\n",
       "75%        38.970000\n",
       "max      9702.000000\n",
       "Name: retail, dtype: float64"
      ]
     },
     "execution_count": 25,
     "metadata": {},
     "output_type": "execute_result"
    }
   ],
   "source": [
    "state_bottle_retail['retail'].describe()"
   ]
  },
  {
   "cell_type": "code",
   "execution_count": 26,
   "metadata": {
    "collapsed": false
   },
   "outputs": [
    {
     "data": {
      "text/plain": [
       "<matplotlib.text.Text at 0x11b90ca90>"
      ]
     },
     "execution_count": 26,
     "metadata": {},
     "output_type": "execute_result"
    },
    {
     "data": {
      "image/png": "[encoded data removed]",
      "text/plain": [
       "<matplotlib.figure.Figure at 0x11ac61a90>"
      ]
     },
     "metadata": {},
     "output_type": "display_data"
    }
   ],
   "source": [
    "plt.bar(state_bottle_retail['retail'], state_bottle_retail['# of bottles'])\n",
    "plt.xlim(0, 60)\n",
    "plt.ylim(0, 65000)\n",
    "plt.ylabel(\"# of Bottles Sold\")\n",
    "plt.xlabel(\"Price in Dollars\")\n",
    "plt.title(\"State Bottle Retail\")"
   ]
  },
  {
   "cell_type": "code",
   "execution_count": 27,
   "metadata": {
    "collapsed": false,
    "scrolled": false
   },
   "outputs": [
    {
     "name": "stdout",
     "output_type": "stream",
     "text": [
      "12    729679\n",
      "6     523228\n",
      "2     376696\n",
      "Name: Bottles Sold, dtype: int64\n"
     ]
    }
   ],
   "source": [
    "#Most common amounts of Bottles Sold per transaction\n",
    "print df['Bottles Sold'].value_counts().head(3)"
   ]
  },
  {
   "cell_type": "code",
   "execution_count": 28,
   "metadata": {
    "collapsed": false
   },
   "outputs": [
    {
     "data": {
      "text/html": [
       "<div>\n",
       "<table border=\"1\" class=\"dataframe\">\n",
       "  <thead>\n",
       "    <tr style=\"text-align: right;\">\n",
       "      <th></th>\n",
       "      <th># of bottles</th>\n",
       "      <th>total # of bottles by order size</th>\n",
       "    </tr>\n",
       "  </thead>\n",
       "  <tbody>\n",
       "    <tr>\n",
       "      <th>0</th>\n",
       "      <td>12</td>\n",
       "      <td>729679</td>\n",
       "    </tr>\n",
       "    <tr>\n",
       "      <th>1</th>\n",
       "      <td>6</td>\n",
       "      <td>523228</td>\n",
       "    </tr>\n",
       "    <tr>\n",
       "      <th>2</th>\n",
       "      <td>2</td>\n",
       "      <td>376696</td>\n",
       "    </tr>\n",
       "    <tr>\n",
       "      <th>3</th>\n",
       "      <td>1</td>\n",
       "      <td>313147</td>\n",
       "    </tr>\n",
       "    <tr>\n",
       "      <th>4</th>\n",
       "      <td>3</td>\n",
       "      <td>280903</td>\n",
       "    </tr>\n",
       "    <tr>\n",
       "      <th>5</th>\n",
       "      <td>4</td>\n",
       "      <td>149473</td>\n",
       "    </tr>\n",
       "    <tr>\n",
       "      <th>6</th>\n",
       "      <td>24</td>\n",
       "      <td>148590</td>\n",
       "    </tr>\n",
       "    <tr>\n",
       "      <th>7</th>\n",
       "      <td>48</td>\n",
       "      <td>37388</td>\n",
       "    </tr>\n",
       "    <tr>\n",
       "      <th>8</th>\n",
       "      <td>5</td>\n",
       "      <td>31965</td>\n",
       "    </tr>\n",
       "    <tr>\n",
       "      <th>9</th>\n",
       "      <td>36</td>\n",
       "      <td>21104</td>\n",
       "    </tr>\n",
       "  </tbody>\n",
       "</table>\n",
       "</div>"
      ],
      "text/plain": [
       "   # of bottles  total # of bottles by order size\n",
       "0            12                            729679\n",
       "1             6                            523228\n",
       "2             2                            376696\n",
       "3             1                            313147\n",
       "4             3                            280903\n",
       "5             4                            149473\n",
       "6            24                            148590\n",
       "7            48                             37388\n",
       "8             5                             31965\n",
       "9            36                             21104"
      ]
     },
     "execution_count": 28,
     "metadata": {},
     "output_type": "execute_result"
    }
   ],
   "source": [
    "#bottles sold by bottles per order (12 bottles (a case) is most popular order, \n",
    "# 6 bottles (1/2 case) is second most popular)\n",
    "bottles_sold = pd.DataFrame(df['Bottles Sold'].value_counts()).reset_index()\n",
    "bottles_sold.columns = ('# of bottles', 'total # of bottles by order size')\n",
    "bottles_sold.head(10)"
   ]
  },
  {
   "cell_type": "code",
   "execution_count": 29,
   "metadata": {
    "collapsed": false,
    "scrolled": true
   },
   "outputs": [
    {
     "name": "stdout",
     "output_type": "stream",
     "text": [
      "6386460.60989\n"
     ]
    }
   ],
   "source": [
    "#Total number of gallons of alcohol sold in Iowa\n",
    "print df['Volume Sold (Gallons)'].sum()"
   ]
  },
  {
   "cell_type": "code",
   "execution_count": 30,
   "metadata": {
    "collapsed": false,
    "scrolled": true
   },
   "outputs": [
    {
     "data": {
      "text/plain": [
       "Index([u'Date', u'Store Number', u'City', u'Zip Code', u'County Number',\n",
       "       u'County', u'Category', u'Category Name', u'Vendor Number',\n",
       "       u'Item Number', u'Item Description', u'Bottle Volume',\n",
       "       u'State Bottle Cost', u'State Bottle Retail', u'Bottles Sold',\n",
       "       u'Sale (Dollars)', u'Volume Sold (Liters)', u'Volume Sold (Gallons)'],\n",
       "      dtype='object')"
      ]
     },
     "execution_count": 30,
     "metadata": {},
     "output_type": "execute_result"
    }
   ],
   "source": [
    "df.columns"
   ]
  },
  {
   "cell_type": "code",
   "execution_count": 31,
   "metadata": {
    "collapsed": false,
    "scrolled": true
   },
   "outputs": [
    {
     "data": {
      "text/html": [
       "<div>\n",
       "<table border=\"1\" class=\"dataframe\">\n",
       "  <thead>\n",
       "    <tr style=\"text-align: right;\">\n",
       "      <th></th>\n",
       "      <th></th>\n",
       "      <th></th>\n",
       "      <th>Bottles Sold</th>\n",
       "    </tr>\n",
       "    <tr>\n",
       "      <th>County</th>\n",
       "      <th>City</th>\n",
       "      <th>Store Number</th>\n",
       "      <th></th>\n",
       "    </tr>\n",
       "  </thead>\n",
       "  <tbody>\n",
       "    <tr>\n",
       "      <th rowspan=\"8\" valign=\"top\">Adair</th>\n",
       "      <th rowspan=\"2\" valign=\"top\">ADAIR</th>\n",
       "      <th>4417</th>\n",
       "      <td>3286</td>\n",
       "    </tr>\n",
       "    <tr>\n",
       "      <th>4753</th>\n",
       "      <td>1129</td>\n",
       "    </tr>\n",
       "    <tr>\n",
       "      <th>FONTANELLE</th>\n",
       "      <th>4620</th>\n",
       "      <td>4987</td>\n",
       "    </tr>\n",
       "    <tr>\n",
       "      <th rowspan=\"3\" valign=\"top\">GREENFIELD</th>\n",
       "      <th>3969</th>\n",
       "      <td>793</td>\n",
       "    </tr>\n",
       "    <tr>\n",
       "      <th>4317</th>\n",
       "      <td>9192</td>\n",
       "    </tr>\n",
       "    <tr>\n",
       "      <th>5052</th>\n",
       "      <td>3879</td>\n",
       "    </tr>\n",
       "    <tr>\n",
       "      <th rowspan=\"2\" valign=\"top\">STUART</th>\n",
       "      <th>3461</th>\n",
       "      <td>12787</td>\n",
       "    </tr>\n",
       "    <tr>\n",
       "      <th>4654</th>\n",
       "      <td>7450</td>\n",
       "    </tr>\n",
       "    <tr>\n",
       "      <th>Adams</th>\n",
       "      <th>CORNING</th>\n",
       "      <th>2327</th>\n",
       "      <td>10173</td>\n",
       "    </tr>\n",
       "    <tr>\n",
       "      <th>Allamakee</th>\n",
       "      <th>HARPERS FERRY</th>\n",
       "      <th>4896</th>\n",
       "      <td>2365</td>\n",
       "    </tr>\n",
       "  </tbody>\n",
       "</table>\n",
       "</div>"
      ],
      "text/plain": [
       "                                      Bottles Sold\n",
       "County    City          Store Number              \n",
       "Adair     ADAIR         4417                  3286\n",
       "                        4753                  1129\n",
       "          FONTANELLE    4620                  4987\n",
       "          GREENFIELD    3969                   793\n",
       "                        4317                  9192\n",
       "                        5052                  3879\n",
       "          STUART        3461                 12787\n",
       "                        4654                  7450\n",
       "Adams     CORNING       2327                 10173\n",
       "Allamakee HARPERS FERRY 4896                  2365"
      ]
     },
     "execution_count": 31,
     "metadata": {},
     "output_type": "execute_result"
    }
   ],
   "source": [
    "#Bottles Sold By Store Number\n",
    "bottles_by_store = pd.pivot_table(df, values=['Bottles Sold'], index=['County', 'City', 'Store Number'], \n",
    "                          aggfunc=sum)\n",
    "bottles_by_store.head(10)"
   ]
  },
  {
   "cell_type": "code",
   "execution_count": 32,
   "metadata": {
    "collapsed": false,
    "scrolled": true
   },
   "outputs": [
    {
     "data": {
      "text/html": [
       "<div>\n",
       "<table border=\"1\" class=\"dataframe\">\n",
       "  <thead>\n",
       "    <tr style=\"text-align: right;\">\n",
       "      <th></th>\n",
       "      <th></th>\n",
       "      <th></th>\n",
       "      <th>Bottles Sold</th>\n",
       "    </tr>\n",
       "    <tr>\n",
       "      <th>County</th>\n",
       "      <th>City</th>\n",
       "      <th>Store Number</th>\n",
       "      <th></th>\n",
       "    </tr>\n",
       "  </thead>\n",
       "  <tbody>\n",
       "    <tr>\n",
       "      <th>Dickinson</th>\n",
       "      <th>OKOBOJI</th>\n",
       "      <th>4486</th>\n",
       "      <td>103</td>\n",
       "    </tr>\n",
       "    <tr>\n",
       "      <th rowspan=\"2\" valign=\"top\">Polk</th>\n",
       "      <th>URBANDALE</th>\n",
       "      <th>4939</th>\n",
       "      <td>110</td>\n",
       "    </tr>\n",
       "    <tr>\n",
       "      <th>DES MOINES</th>\n",
       "      <th>4567</th>\n",
       "      <td>118</td>\n",
       "    </tr>\n",
       "    <tr>\n",
       "      <th>Johnson</th>\n",
       "      <th>IOWA CITY</th>\n",
       "      <th>5053</th>\n",
       "      <td>126</td>\n",
       "    </tr>\n",
       "    <tr>\n",
       "      <th>Pottawattamie</th>\n",
       "      <th>COUNCIL BLUFFS</th>\n",
       "      <th>5056</th>\n",
       "      <td>158</td>\n",
       "    </tr>\n",
       "    <tr>\n",
       "      <th>Benton</th>\n",
       "      <th>BELLE PLAINE</th>\n",
       "      <th>4059</th>\n",
       "      <td>164</td>\n",
       "    </tr>\n",
       "    <tr>\n",
       "      <th>Cass</th>\n",
       "      <th>GRISWOLD</th>\n",
       "      <th>4990</th>\n",
       "      <td>239</td>\n",
       "    </tr>\n",
       "    <tr>\n",
       "      <th rowspan=\"2\" valign=\"top\">Scott</th>\n",
       "      <th>DAVENPORT</th>\n",
       "      <th>5130</th>\n",
       "      <td>248</td>\n",
       "    </tr>\n",
       "    <tr>\n",
       "      <th>Davenport</th>\n",
       "      <th>9022</th>\n",
       "      <td>252</td>\n",
       "    </tr>\n",
       "    <tr>\n",
       "      <th>Louisa</th>\n",
       "      <th>WAPELLO</th>\n",
       "      <th>4121</th>\n",
       "      <td>271</td>\n",
       "    </tr>\n",
       "    <tr>\n",
       "      <th>Linn</th>\n",
       "      <th>ROBINS</th>\n",
       "      <th>5192</th>\n",
       "      <td>332</td>\n",
       "    </tr>\n",
       "    <tr>\n",
       "      <th>Black Hawk</th>\n",
       "      <th>GILBERTVILLE</th>\n",
       "      <th>5202</th>\n",
       "      <td>335</td>\n",
       "    </tr>\n",
       "    <tr>\n",
       "      <th>Polk</th>\n",
       "      <th>DES MOINES</th>\n",
       "      <th>5136</th>\n",
       "      <td>336</td>\n",
       "    </tr>\n",
       "    <tr>\n",
       "      <th>Pottawattamie</th>\n",
       "      <th>COUNCIL BLUFFS</th>\n",
       "      <th>5195</th>\n",
       "      <td>350</td>\n",
       "    </tr>\n",
       "    <tr>\n",
       "      <th>Carroll</th>\n",
       "      <th>Carroll</th>\n",
       "      <th>9023</th>\n",
       "      <td>372</td>\n",
       "    </tr>\n",
       "    <tr>\n",
       "      <th>Dubuque</th>\n",
       "      <th>DUBUQUE</th>\n",
       "      <th>5201</th>\n",
       "      <td>391</td>\n",
       "    </tr>\n",
       "    <tr>\n",
       "      <th>Carroll</th>\n",
       "      <th>GLIDDEN</th>\n",
       "      <th>5205</th>\n",
       "      <td>427</td>\n",
       "    </tr>\n",
       "    <tr>\n",
       "      <th>Lyon</th>\n",
       "      <th>INWOOD</th>\n",
       "      <th>4335</th>\n",
       "      <td>448</td>\n",
       "    </tr>\n",
       "    <tr>\n",
       "      <th>Carroll</th>\n",
       "      <th>CARROLL</th>\n",
       "      <th>4776</th>\n",
       "      <td>469</td>\n",
       "    </tr>\n",
       "    <tr>\n",
       "      <th>Buena Vista</th>\n",
       "      <th>STORM LAKE</th>\n",
       "      <th>4778</th>\n",
       "      <td>522</td>\n",
       "    </tr>\n",
       "    <tr>\n",
       "      <th>Sac</th>\n",
       "      <th>SCHALLER</th>\n",
       "      <th>3864</th>\n",
       "      <td>581</td>\n",
       "    </tr>\n",
       "    <tr>\n",
       "      <th>Monona</th>\n",
       "      <th>MAPLETON</th>\n",
       "      <th>5120</th>\n",
       "      <td>589</td>\n",
       "    </tr>\n",
       "    <tr>\n",
       "      <th>Pottawattamie</th>\n",
       "      <th>COUNCIL BLUFFS</th>\n",
       "      <th>5161</th>\n",
       "      <td>611</td>\n",
       "    </tr>\n",
       "    <tr>\n",
       "      <th>Dickinson</th>\n",
       "      <th>LAKE PARK</th>\n",
       "      <th>4030</th>\n",
       "      <td>640</td>\n",
       "    </tr>\n",
       "    <tr>\n",
       "      <th>Clayton</th>\n",
       "      <th>GUTTENBERG</th>\n",
       "      <th>4672</th>\n",
       "      <td>656</td>\n",
       "    </tr>\n",
       "    <tr>\n",
       "      <th>Lee</th>\n",
       "      <th>MONTROSE</th>\n",
       "      <th>5213</th>\n",
       "      <td>676</td>\n",
       "    </tr>\n",
       "    <tr>\n",
       "      <th>Buena Vista</th>\n",
       "      <th>STORM LAKE</th>\n",
       "      <th>4737</th>\n",
       "      <td>686</td>\n",
       "    </tr>\n",
       "    <tr>\n",
       "      <th>Guthrie</th>\n",
       "      <th>GUTHRIE CENTER</th>\n",
       "      <th>5191</th>\n",
       "      <td>705</td>\n",
       "    </tr>\n",
       "    <tr>\n",
       "      <th>Polk</th>\n",
       "      <th>WEST DES MOINES</th>\n",
       "      <th>2961</th>\n",
       "      <td>721</td>\n",
       "    </tr>\n",
       "    <tr>\n",
       "      <th>Delaware</th>\n",
       "      <th>DELHI</th>\n",
       "      <th>5175</th>\n",
       "      <td>721</td>\n",
       "    </tr>\n",
       "    <tr>\n",
       "      <th>...</th>\n",
       "      <th>...</th>\n",
       "      <th>...</th>\n",
       "      <td>...</td>\n",
       "    </tr>\n",
       "    <tr>\n",
       "      <th rowspan=\"4\" valign=\"top\">Polk</th>\n",
       "      <th>URBANDALE</th>\n",
       "      <th>2663</th>\n",
       "      <td>115692</td>\n",
       "    </tr>\n",
       "    <tr>\n",
       "      <th>WEST DES MOINES</th>\n",
       "      <th>2619</th>\n",
       "      <td>116077</td>\n",
       "    </tr>\n",
       "    <tr>\n",
       "      <th>DES MOINES</th>\n",
       "      <th>2561</th>\n",
       "      <td>116350</td>\n",
       "    </tr>\n",
       "    <tr>\n",
       "      <th>WEST DES MOINES</th>\n",
       "      <th>2648</th>\n",
       "      <td>118209</td>\n",
       "    </tr>\n",
       "    <tr>\n",
       "      <th>Woodbury</th>\n",
       "      <th>SIOUX CITY</th>\n",
       "      <th>3820</th>\n",
       "      <td>119671</td>\n",
       "    </tr>\n",
       "    <tr>\n",
       "      <th>Story</th>\n",
       "      <th>AMES</th>\n",
       "      <th>2500</th>\n",
       "      <td>122091</td>\n",
       "    </tr>\n",
       "    <tr>\n",
       "      <th>Black Hawk</th>\n",
       "      <th>CEDAR FALLS</th>\n",
       "      <th>2106</th>\n",
       "      <td>123603</td>\n",
       "    </tr>\n",
       "    <tr>\n",
       "      <th rowspan=\"2\" valign=\"top\">Story</th>\n",
       "      <th rowspan=\"2\" valign=\"top\">AMES</th>\n",
       "      <th>2501</th>\n",
       "      <td>127344</td>\n",
       "    </tr>\n",
       "    <tr>\n",
       "      <th>3524</th>\n",
       "      <td>127972</td>\n",
       "    </tr>\n",
       "    <tr>\n",
       "      <th>Carroll</th>\n",
       "      <th>CARROLL</th>\n",
       "      <th>2593</th>\n",
       "      <td>128805</td>\n",
       "    </tr>\n",
       "    <tr>\n",
       "      <th>Pottawattamie</th>\n",
       "      <th>COUNCIL BLUFFS</th>\n",
       "      <th>2629</th>\n",
       "      <td>130652</td>\n",
       "    </tr>\n",
       "    <tr>\n",
       "      <th>Polk</th>\n",
       "      <th>DES MOINES</th>\n",
       "      <th>2190</th>\n",
       "      <td>132694</td>\n",
       "    </tr>\n",
       "    <tr>\n",
       "      <th>Woodbury</th>\n",
       "      <th>SIOUX CITY</th>\n",
       "      <th>3447</th>\n",
       "      <td>134520</td>\n",
       "    </tr>\n",
       "    <tr>\n",
       "      <th>Scott</th>\n",
       "      <th>DAVENPORT</th>\n",
       "      <th>2614</th>\n",
       "      <td>134766</td>\n",
       "    </tr>\n",
       "    <tr>\n",
       "      <th>Dallas</th>\n",
       "      <th>WEST DES MOINES</th>\n",
       "      <th>3814</th>\n",
       "      <td>135756</td>\n",
       "    </tr>\n",
       "    <tr>\n",
       "      <th>Black Hawk</th>\n",
       "      <th>WATERLOO</th>\n",
       "      <th>3494</th>\n",
       "      <td>137901</td>\n",
       "    </tr>\n",
       "    <tr>\n",
       "      <th>Clinton</th>\n",
       "      <th>CLINTON</th>\n",
       "      <th>2616</th>\n",
       "      <td>142425</td>\n",
       "    </tr>\n",
       "    <tr>\n",
       "      <th>Polk</th>\n",
       "      <th>DES MOINES</th>\n",
       "      <th>2627</th>\n",
       "      <td>154185</td>\n",
       "    </tr>\n",
       "    <tr>\n",
       "      <th>Scott</th>\n",
       "      <th>DAVENPORT</th>\n",
       "      <th>2625</th>\n",
       "      <td>157375</td>\n",
       "    </tr>\n",
       "    <tr>\n",
       "      <th>Dubuque</th>\n",
       "      <th>DUBUQUE</th>\n",
       "      <th>4167</th>\n",
       "      <td>160274</td>\n",
       "    </tr>\n",
       "    <tr>\n",
       "      <th>Linn</th>\n",
       "      <th>CEDAR RAPIDS</th>\n",
       "      <th>3773</th>\n",
       "      <td>168781</td>\n",
       "    </tr>\n",
       "    <tr>\n",
       "      <th>Scott</th>\n",
       "      <th>DAVENPORT</th>\n",
       "      <th>3354</th>\n",
       "      <td>172162</td>\n",
       "    </tr>\n",
       "    <tr>\n",
       "      <th>Linn</th>\n",
       "      <th>MOUNT VERNON</th>\n",
       "      <th>5102</th>\n",
       "      <td>181497</td>\n",
       "    </tr>\n",
       "    <tr>\n",
       "      <th>Johnson</th>\n",
       "      <th>CORALVILLE</th>\n",
       "      <th>2670</th>\n",
       "      <td>196258</td>\n",
       "    </tr>\n",
       "    <tr>\n",
       "      <th>Scott</th>\n",
       "      <th>BETTENDORF</th>\n",
       "      <th>3952</th>\n",
       "      <td>220121</td>\n",
       "    </tr>\n",
       "    <tr>\n",
       "      <th>Polk</th>\n",
       "      <th>WINDSOR HEIGHTS</th>\n",
       "      <th>3420</th>\n",
       "      <td>226532</td>\n",
       "    </tr>\n",
       "    <tr>\n",
       "      <th>Linn</th>\n",
       "      <th>CEDAR RAPIDS</th>\n",
       "      <th>3385</th>\n",
       "      <td>296426</td>\n",
       "    </tr>\n",
       "    <tr>\n",
       "      <th>Johnson</th>\n",
       "      <th>IOWA CITY</th>\n",
       "      <th>2512</th>\n",
       "      <td>356873</td>\n",
       "    </tr>\n",
       "    <tr>\n",
       "      <th rowspan=\"2\" valign=\"top\">Polk</th>\n",
       "      <th rowspan=\"2\" valign=\"top\">DES MOINES</th>\n",
       "      <th>4829</th>\n",
       "      <td>657032</td>\n",
       "    </tr>\n",
       "    <tr>\n",
       "      <th>2633</th>\n",
       "      <td>744424</td>\n",
       "    </tr>\n",
       "  </tbody>\n",
       "</table>\n",
       "<p>1381 rows × 1 columns</p>\n",
       "</div>"
      ],
      "text/plain": [
       "                                            Bottles Sold\n",
       "County        City            Store Number              \n",
       "Dickinson     OKOBOJI         4486                   103\n",
       "Polk          URBANDALE       4939                   110\n",
       "              DES MOINES      4567                   118\n",
       "Johnson       IOWA CITY       5053                   126\n",
       "Pottawattamie COUNCIL BLUFFS  5056                   158\n",
       "Benton        BELLE PLAINE    4059                   164\n",
       "Cass          GRISWOLD        4990                   239\n",
       "Scott         DAVENPORT       5130                   248\n",
       "              Davenport       9022                   252\n",
       "Louisa        WAPELLO         4121                   271\n",
       "Linn          ROBINS          5192                   332\n",
       "Black Hawk    GILBERTVILLE    5202                   335\n",
       "Polk          DES MOINES      5136                   336\n",
       "Pottawattamie COUNCIL BLUFFS  5195                   350\n",
       "Carroll       Carroll         9023                   372\n",
       "Dubuque       DUBUQUE         5201                   391\n",
       "Carroll       GLIDDEN         5205                   427\n",
       "Lyon          INWOOD          4335                   448\n",
       "Carroll       CARROLL         4776                   469\n",
       "Buena Vista   STORM LAKE      4778                   522\n",
       "Sac           SCHALLER        3864                   581\n",
       "Monona        MAPLETON        5120                   589\n",
       "Pottawattamie COUNCIL BLUFFS  5161                   611\n",
       "Dickinson     LAKE PARK       4030                   640\n",
       "Clayton       GUTTENBERG      4672                   656\n",
       "Lee           MONTROSE        5213                   676\n",
       "Buena Vista   STORM LAKE      4737                   686\n",
       "Guthrie       GUTHRIE CENTER  5191                   705\n",
       "Polk          WEST DES MOINES 2961                   721\n",
       "Delaware      DELHI           5175                   721\n",
       "...                                                  ...\n",
       "Polk          URBANDALE       2663                115692\n",
       "              WEST DES MOINES 2619                116077\n",
       "              DES MOINES      2561                116350\n",
       "              WEST DES MOINES 2648                118209\n",
       "Woodbury      SIOUX CITY      3820                119671\n",
       "Story         AMES            2500                122091\n",
       "Black Hawk    CEDAR FALLS     2106                123603\n",
       "Story         AMES            2501                127344\n",
       "                              3524                127972\n",
       "Carroll       CARROLL         2593                128805\n",
       "Pottawattamie COUNCIL BLUFFS  2629                130652\n",
       "Polk          DES MOINES      2190                132694\n",
       "Woodbury      SIOUX CITY      3447                134520\n",
       "Scott         DAVENPORT       2614                134766\n",
       "Dallas        WEST DES MOINES 3814                135756\n",
       "Black Hawk    WATERLOO        3494                137901\n",
       "Clinton       CLINTON         2616                142425\n",
       "Polk          DES MOINES      2627                154185\n",
       "Scott         DAVENPORT       2625                157375\n",
       "Dubuque       DUBUQUE         4167                160274\n",
       "Linn          CEDAR RAPIDS    3773                168781\n",
       "Scott         DAVENPORT       3354                172162\n",
       "Linn          MOUNT VERNON    5102                181497\n",
       "Johnson       CORALVILLE      2670                196258\n",
       "Scott         BETTENDORF      3952                220121\n",
       "Polk          WINDSOR HEIGHTS 3420                226532\n",
       "Linn          CEDAR RAPIDS    3385                296426\n",
       "Johnson       IOWA CITY       2512                356873\n",
       "Polk          DES MOINES      4829                657032\n",
       "                              2633                744424\n",
       "\n",
       "[1381 rows x 1 columns]"
      ]
     },
     "execution_count": 32,
     "metadata": {},
     "output_type": "execute_result"
    }
   ],
   "source": [
    "#identify lowest performing stores\n",
    "bottles_by_store.sort_values((['Bottles Sold']), axis=0, ascending=True)"
   ]
  },
  {
   "cell_type": "code",
   "execution_count": 33,
   "metadata": {
    "collapsed": false
   },
   "outputs": [
    {
     "name": "stdout",
     "output_type": "stream",
     "text": [
      "VODKA 80 PROOF                        353491\n",
      "CANADIAN WHISKIES                     269894\n",
      "STRAIGHT BOURBON WHISKIES             153806\n",
      "SPICED RUM                            145731\n",
      "VODKA FLAVORED                        141964\n",
      "TEQUILA                               121863\n",
      "BLENDED WHISKIES                      116085\n",
      "WHISKEY LIQUEUR                       109731\n",
      "IMPORTED VODKA                        108106\n",
      "PUERTO RICO & VIRGIN ISLANDS RUM       99756\n",
      "FLAVORED RUM                           72696\n",
      "TENNESSEE WHISKIES                     72148\n",
      "AMERICAN COCKTAILS                     68255\n",
      "AMERICAN DRY GINS                      65590\n",
      "AMERICAN GRAPE BRANDIES                64802\n",
      "IMPORTED VODKA - MISC                  64718\n",
      "MISC. IMPORTED CORDIALS & LIQUEURS     63494\n",
      "CREAM LIQUEURS                         62585\n",
      "SCOTCH WHISKIES                        52301\n",
      "IMPORTED GRAPE BRANDIES                46561\n",
      "Name: Category Name, dtype: int64\n"
     ]
    }
   ],
   "source": [
    "print df['Category Name'].value_counts().head(20)"
   ]
  },
  {
   "cell_type": "markdown",
   "metadata": {},
   "source": [
    "## Record your findings\n",
    "\n",
    "Be sure to write out any observations from your exploratory analysis."
   ]
  },
  {
   "cell_type": "markdown",
   "metadata": {},
   "source": [
    "Exploratory Analysis: Upon an exploratory review of the data set, the data appears to be quite clean. This is likely due to the source being the State of Iowa. To further clean up, \"$\" were removed from some columns and data was converted to floats so that descriptive statistics could be performed on numerical data. "
   ]
  },
  {
   "cell_type": "markdown",
   "metadata": {},
   "source": [
    "# Mine the data\n",
    "Now you are ready to compute the variables you will use for your regression from the data. For example, you may want to\n",
    "compute total sales per store from Jan to March of 2015, mean price per bottle, etc. Refer to the readme for more ideas appropriate to your scenario.\n",
    "\n",
    "Pandas is your friend for this task. Take a look at the operations [here](http://pandas.pydata.org/pandas-docs/stable/groupby.html) for ideas on how to make the best use of pandas and feel free to search for blog and Stack Overflow posts to help you group data by certain variables and compute sums, means, etc. You may find it useful to create a new data frame to house this summary data."
   ]
  },
  {
   "cell_type": "markdown",
   "metadata": {
    "collapsed": true
   },
   "source": [
    "Mean Bottle Cost - $9.81\n",
    "Mean Bottle Retail - $14.74\n",
    "Mean Bottles Sold (per order) - 9.83\n",
    "Mean Sale Total - $129.11\n",
    "Mean Bottle Volume - 924(ml)\n",
    "Most Common Bottle Cost\n",
    "\n",
    "Most/least common prices for State Bottle Cost & # Sold at that Price\n",
    "8.25     61549\n",
    "6.50     48647\n",
    "9.00     43436\n",
    "10.00    42490\n",
    "10.49    40135\n",
    "\n",
    "Most/least common prices for Bottle Retail & # Sold at that Price\n",
    "12.38 \t61549\n",
    "9.75 \t49084\n",
    "13.50 \t43942\n",
    "15.00 \t42567\n",
    "15.74 \t38370\n",
    "\n",
    "Top 10 Stores by Total Sales\n",
    "2633          50320       11865805.85\n",
    "4829          50314       10677520.03\n",
    "2512          52240        5094112.61\n",
    "3385          52402        4499578.83\n",
    "3420          50311        3818165.13\n",
    "3952          52722        3660068.45\n",
    "3814          50266        3228425.04\n",
    "2670          52241        2939714.05\n",
    "3773          52401        2846275.25\n",
    "3354          52807        2791626.27\n",
    "\n",
    "Top 10 Performing Stores by Average Sale Amount (City & Store Number)\n",
    "\n",
    "City             Store Number\n",
    "Dubuque          9018            7275.000000\n",
    "WEST DES MOINES  3814            2350.002821\n",
    "Davenport        9022            2321.760000\n",
    "CORALVILLE       4677            1744.856776\n",
    "Carroll          9023            1090.786667\n",
    "WINDSOR HEIGHTS  3420            1038.886905\n",
    "CEDAR RAPIDS     3385             775.743731\n",
    "LECLAIRE         9002             744.686653\n",
    "SIOUX CITY       3447             742.418559\n",
    "SWISHER          9001             721.130909\n",
    "\n",
    "Top 20 Most Popular Liquor Types (Category Name/Units Sold)\n",
    "VODKA 80 PROOF                        353491\n",
    "CANADIAN WHISKIES                     269894\n",
    "STRAIGHT BOURBON WHISKIES             153806\n",
    "SPICED RUM                            145731\n",
    "VODKA FLAVORED                        141964\n",
    "TEQUILA                               121863\n",
    "BLENDED WHISKIES                      116085\n",
    "WHISKEY LIQUEUR                       109731\n",
    "IMPORTED VODKA                        108106\n",
    "PUERTO RICO & VIRGIN ISLANDS RUM       99756\n",
    "FLAVORED RUM                           72696\n",
    "TENNESSEE WHISKIES                     72148\n",
    "AMERICAN COCKTAILS                     68255\n",
    "AMERICAN DRY GINS                      65590\n",
    "AMERICAN GRAPE BRANDIES                64802\n",
    "IMPORTED VODKA - MISC                  64718\n",
    "MISC. IMPORTED CORDIALS & LIQUEURS     63494\n",
    "CREAM LIQUEURS                         62585\n",
    "SCOTCH WHISKIES                        52301\n",
    "IMPORTED GRAPE BRANDIES                46561"
   ]
  },
  {
   "cell_type": "code",
   "execution_count": 34,
   "metadata": {
    "collapsed": false
   },
   "outputs": [],
   "source": [
    "df.insert(0, 'Year', df['Date'].dt.year)\n",
    "df.insert(0, 'Month', df['Date'].dt.month)"
   ]
  },
  {
   "cell_type": "code",
   "execution_count": 35,
   "metadata": {
    "collapsed": false,
    "scrolled": false
   },
   "outputs": [
    {
     "data": {
      "text/html": [
       "<div>\n",
       "<table border=\"1\" class=\"dataframe\">\n",
       "  <thead>\n",
       "    <tr>\n",
       "      <th></th>\n",
       "      <th>Store Number</th>\n",
       "      <th>County</th>\n",
       "      <th colspan=\"4\" halign=\"left\">sum</th>\n",
       "      <th colspan=\"4\" halign=\"left\">mean</th>\n",
       "    </tr>\n",
       "    <tr>\n",
       "      <th></th>\n",
       "      <th></th>\n",
       "      <th></th>\n",
       "      <th>Bottles Sold</th>\n",
       "      <th>State Bottle Retail</th>\n",
       "      <th>Volume Sold (Gallons)</th>\n",
       "      <th>Volume Sold (Liters)</th>\n",
       "      <th>Bottles Sold</th>\n",
       "      <th>State Bottle Retail</th>\n",
       "      <th>Volume Sold (Gallons)</th>\n",
       "      <th>Volume Sold (Liters)</th>\n",
       "    </tr>\n",
       "  </thead>\n",
       "  <tbody>\n",
       "    <tr>\n",
       "      <th>0</th>\n",
       "      <td>2106</td>\n",
       "      <td>Black Hawk</td>\n",
       "      <td>99998</td>\n",
       "      <td>82829.51</td>\n",
       "      <td>24832.44</td>\n",
       "      <td>93986.47</td>\n",
       "      <td>19.588247</td>\n",
       "      <td>16.225173</td>\n",
       "      <td>4.864337</td>\n",
       "      <td>18.410670</td>\n",
       "    </tr>\n",
       "    <tr>\n",
       "      <th>1</th>\n",
       "      <td>2113</td>\n",
       "      <td>Webster</td>\n",
       "      <td>6483</td>\n",
       "      <td>21725.74</td>\n",
       "      <td>1717.17</td>\n",
       "      <td>6500.83</td>\n",
       "      <td>4.763409</td>\n",
       "      <td>15.963071</td>\n",
       "      <td>1.261697</td>\n",
       "      <td>4.776510</td>\n",
       "    </tr>\n",
       "    <tr>\n",
       "      <th>2</th>\n",
       "      <td>2130</td>\n",
       "      <td>Black Hawk</td>\n",
       "      <td>72562</td>\n",
       "      <td>60908.96</td>\n",
       "      <td>17321.29</td>\n",
       "      <td>65562.88</td>\n",
       "      <td>18.374778</td>\n",
       "      <td>15.423895</td>\n",
       "      <td>4.386247</td>\n",
       "      <td>16.602401</td>\n",
       "    </tr>\n",
       "    <tr>\n",
       "      <th>3</th>\n",
       "      <td>2152</td>\n",
       "      <td>Cerro Gordo</td>\n",
       "      <td>5928</td>\n",
       "      <td>18507.48</td>\n",
       "      <td>1628.42</td>\n",
       "      <td>6164.92</td>\n",
       "      <td>4.131010</td>\n",
       "      <td>12.897199</td>\n",
       "      <td>1.134787</td>\n",
       "      <td>4.296111</td>\n",
       "    </tr>\n",
       "    <tr>\n",
       "      <th>4</th>\n",
       "      <td>2178</td>\n",
       "      <td>Allamakee</td>\n",
       "      <td>20504</td>\n",
       "      <td>40070.07</td>\n",
       "      <td>5737.98</td>\n",
       "      <td>21719.49</td>\n",
       "      <td>7.699587</td>\n",
       "      <td>15.046966</td>\n",
       "      <td>2.154705</td>\n",
       "      <td>8.156023</td>\n",
       "    </tr>\n",
       "  </tbody>\n",
       "</table>\n",
       "</div>"
      ],
      "text/plain": [
       "  Store Number       County          sum                      \\\n",
       "                            Bottles Sold State Bottle Retail   \n",
       "0         2106   Black Hawk        99998            82829.51   \n",
       "1         2113      Webster         6483            21725.74   \n",
       "2         2130   Black Hawk        72562            60908.96   \n",
       "3         2152  Cerro Gordo         5928            18507.48   \n",
       "4         2178    Allamakee        20504            40070.07   \n",
       "\n",
       "                                                     mean                      \\\n",
       "  Volume Sold (Gallons) Volume Sold (Liters) Bottles Sold State Bottle Retail   \n",
       "0              24832.44             93986.47    19.588247           16.225173   \n",
       "1               1717.17              6500.83     4.763409           15.963071   \n",
       "2              17321.29             65562.88    18.374778           15.423895   \n",
       "3               1628.42              6164.92     4.131010           12.897199   \n",
       "4               5737.98             21719.49     7.699587           15.046966   \n",
       "\n",
       "                                              \n",
       "  Volume Sold (Gallons) Volume Sold (Liters)  \n",
       "0              4.864337            18.410670  \n",
       "1              1.261697             4.776510  \n",
       "2              4.386247            16.602401  \n",
       "3              1.134787             4.296111  \n",
       "4              2.154705             8.156023  "
      ]
     },
     "execution_count": 35,
     "metadata": {},
     "output_type": "execute_result"
    }
   ],
   "source": [
    "totals_by_store = pd.pivot_table(df[(df['Year'] == 2015)], \n",
    "                                   values=['State Bottle Retail', 'Bottles Sold',\n",
    "                                           'Volume Sold (Liters)', 'Volume Sold (Gallons)', \n",
    "                                           'Sale'], \n",
    "                                   index=['Store Number', 'County'], aggfunc=[np.sum, np.mean])\n",
    "totals_by_store.reset_index(inplace=True)\n",
    "totals_by_store.head()"
   ]
  },
  {
   "cell_type": "code",
   "execution_count": 36,
   "metadata": {
    "collapsed": false
   },
   "outputs": [],
   "source": [
    "totals_by_store.columns = [' '.join(col).strip() for col in totals_by_store.columns.values]"
   ]
  },
  {
   "cell_type": "code",
   "execution_count": 37,
   "metadata": {
    "collapsed": false,
    "scrolled": false
   },
   "outputs": [
    {
     "data": {
      "text/html": [
       "<div>\n",
       "<table border=\"1\" class=\"dataframe\">\n",
       "  <thead>\n",
       "    <tr style=\"text-align: right;\">\n",
       "      <th></th>\n",
       "      <th>Store Number</th>\n",
       "      <th>County</th>\n",
       "      <th>sum Bottles Sold</th>\n",
       "      <th>sum State Bottle Retail</th>\n",
       "      <th>sum Volume Sold (Gallons)</th>\n",
       "      <th>sum Volume Sold (Liters)</th>\n",
       "      <th>mean Bottles Sold</th>\n",
       "      <th>mean State Bottle Retail</th>\n",
       "      <th>mean Volume Sold (Gallons)</th>\n",
       "      <th>mean Volume Sold (Liters)</th>\n",
       "    </tr>\n",
       "  </thead>\n",
       "  <tbody>\n",
       "    <tr>\n",
       "      <th>0</th>\n",
       "      <td>2106</td>\n",
       "      <td>Black Hawk</td>\n",
       "      <td>99998</td>\n",
       "      <td>82829.51</td>\n",
       "      <td>24832.44</td>\n",
       "      <td>93986.47</td>\n",
       "      <td>19.588247</td>\n",
       "      <td>16.225173</td>\n",
       "      <td>4.864337</td>\n",
       "      <td>18.410670</td>\n",
       "    </tr>\n",
       "    <tr>\n",
       "      <th>1</th>\n",
       "      <td>2113</td>\n",
       "      <td>Webster</td>\n",
       "      <td>6483</td>\n",
       "      <td>21725.74</td>\n",
       "      <td>1717.17</td>\n",
       "      <td>6500.83</td>\n",
       "      <td>4.763409</td>\n",
       "      <td>15.963071</td>\n",
       "      <td>1.261697</td>\n",
       "      <td>4.776510</td>\n",
       "    </tr>\n",
       "    <tr>\n",
       "      <th>2</th>\n",
       "      <td>2130</td>\n",
       "      <td>Black Hawk</td>\n",
       "      <td>72562</td>\n",
       "      <td>60908.96</td>\n",
       "      <td>17321.29</td>\n",
       "      <td>65562.88</td>\n",
       "      <td>18.374778</td>\n",
       "      <td>15.423895</td>\n",
       "      <td>4.386247</td>\n",
       "      <td>16.602401</td>\n",
       "    </tr>\n",
       "    <tr>\n",
       "      <th>3</th>\n",
       "      <td>2152</td>\n",
       "      <td>Cerro Gordo</td>\n",
       "      <td>5928</td>\n",
       "      <td>18507.48</td>\n",
       "      <td>1628.42</td>\n",
       "      <td>6164.92</td>\n",
       "      <td>4.131010</td>\n",
       "      <td>12.897199</td>\n",
       "      <td>1.134787</td>\n",
       "      <td>4.296111</td>\n",
       "    </tr>\n",
       "    <tr>\n",
       "      <th>4</th>\n",
       "      <td>2178</td>\n",
       "      <td>Allamakee</td>\n",
       "      <td>20504</td>\n",
       "      <td>40070.07</td>\n",
       "      <td>5737.98</td>\n",
       "      <td>21719.49</td>\n",
       "      <td>7.699587</td>\n",
       "      <td>15.046966</td>\n",
       "      <td>2.154705</td>\n",
       "      <td>8.156023</td>\n",
       "    </tr>\n",
       "  </tbody>\n",
       "</table>\n",
       "</div>"
      ],
      "text/plain": [
       "   Store Number       County  sum Bottles Sold  sum State Bottle Retail  \\\n",
       "0          2106   Black Hawk             99998                 82829.51   \n",
       "1          2113      Webster              6483                 21725.74   \n",
       "2          2130   Black Hawk             72562                 60908.96   \n",
       "3          2152  Cerro Gordo              5928                 18507.48   \n",
       "4          2178    Allamakee             20504                 40070.07   \n",
       "\n",
       "   sum Volume Sold (Gallons)  sum Volume Sold (Liters)  mean Bottles Sold  \\\n",
       "0                   24832.44                  93986.47          19.588247   \n",
       "1                    1717.17                   6500.83           4.763409   \n",
       "2                   17321.29                  65562.88          18.374778   \n",
       "3                    1628.42                   6164.92           4.131010   \n",
       "4                    5737.98                  21719.49           7.699587   \n",
       "\n",
       "   mean State Bottle Retail  mean Volume Sold (Gallons)  \\\n",
       "0                 16.225173                    4.864337   \n",
       "1                 15.963071                    1.261697   \n",
       "2                 15.423895                    4.386247   \n",
       "3                 12.897199                    1.134787   \n",
       "4                 15.046966                    2.154705   \n",
       "\n",
       "   mean Volume Sold (Liters)  \n",
       "0                  18.410670  \n",
       "1                   4.776510  \n",
       "2                  16.602401  \n",
       "3                   4.296111  \n",
       "4                   8.156023  "
      ]
     },
     "execution_count": 37,
     "metadata": {},
     "output_type": "execute_result"
    }
   ],
   "source": [
    "totals_by_store.head()"
   ]
  },
  {
   "cell_type": "code",
   "execution_count": 38,
   "metadata": {
    "collapsed": false
   },
   "outputs": [
    {
     "data": {
      "text/html": [
       "<div>\n",
       "<table border=\"1\" class=\"dataframe\">\n",
       "  <thead>\n",
       "    <tr style=\"text-align: right;\">\n",
       "      <th></th>\n",
       "      <th>Store Number</th>\n",
       "      <th>County</th>\n",
       "      <th>Sum Bottles Sold</th>\n",
       "      <th>Sum Retail Cost</th>\n",
       "      <th>Sum Volume Sold (Gallons)</th>\n",
       "      <th>Sum Volume Sold (Liters)</th>\n",
       "      <th>Mean Bottles Sold</th>\n",
       "      <th>Mean Retail Cost</th>\n",
       "      <th>Mean Volume Sold (Gallons)</th>\n",
       "      <th>Mean Volume Sold (Liters)</th>\n",
       "    </tr>\n",
       "  </thead>\n",
       "  <tbody>\n",
       "    <tr>\n",
       "      <th>0</th>\n",
       "      <td>2106</td>\n",
       "      <td>Black Hawk</td>\n",
       "      <td>99998</td>\n",
       "      <td>82829.51</td>\n",
       "      <td>24832.44</td>\n",
       "      <td>93986.47</td>\n",
       "      <td>19.588247</td>\n",
       "      <td>16.225173</td>\n",
       "      <td>4.864337</td>\n",
       "      <td>18.410670</td>\n",
       "    </tr>\n",
       "    <tr>\n",
       "      <th>1</th>\n",
       "      <td>2113</td>\n",
       "      <td>Webster</td>\n",
       "      <td>6483</td>\n",
       "      <td>21725.74</td>\n",
       "      <td>1717.17</td>\n",
       "      <td>6500.83</td>\n",
       "      <td>4.763409</td>\n",
       "      <td>15.963071</td>\n",
       "      <td>1.261697</td>\n",
       "      <td>4.776510</td>\n",
       "    </tr>\n",
       "    <tr>\n",
       "      <th>2</th>\n",
       "      <td>2130</td>\n",
       "      <td>Black Hawk</td>\n",
       "      <td>72562</td>\n",
       "      <td>60908.96</td>\n",
       "      <td>17321.29</td>\n",
       "      <td>65562.88</td>\n",
       "      <td>18.374778</td>\n",
       "      <td>15.423895</td>\n",
       "      <td>4.386247</td>\n",
       "      <td>16.602401</td>\n",
       "    </tr>\n",
       "    <tr>\n",
       "      <th>3</th>\n",
       "      <td>2152</td>\n",
       "      <td>Cerro Gordo</td>\n",
       "      <td>5928</td>\n",
       "      <td>18507.48</td>\n",
       "      <td>1628.42</td>\n",
       "      <td>6164.92</td>\n",
       "      <td>4.131010</td>\n",
       "      <td>12.897199</td>\n",
       "      <td>1.134787</td>\n",
       "      <td>4.296111</td>\n",
       "    </tr>\n",
       "    <tr>\n",
       "      <th>4</th>\n",
       "      <td>2178</td>\n",
       "      <td>Allamakee</td>\n",
       "      <td>20504</td>\n",
       "      <td>40070.07</td>\n",
       "      <td>5737.98</td>\n",
       "      <td>21719.49</td>\n",
       "      <td>7.699587</td>\n",
       "      <td>15.046966</td>\n",
       "      <td>2.154705</td>\n",
       "      <td>8.156023</td>\n",
       "    </tr>\n",
       "  </tbody>\n",
       "</table>\n",
       "</div>"
      ],
      "text/plain": [
       "   Store Number       County  Sum Bottles Sold  Sum Retail Cost  \\\n",
       "0          2106   Black Hawk             99998         82829.51   \n",
       "1          2113      Webster              6483         21725.74   \n",
       "2          2130   Black Hawk             72562         60908.96   \n",
       "3          2152  Cerro Gordo              5928         18507.48   \n",
       "4          2178    Allamakee             20504         40070.07   \n",
       "\n",
       "   Sum Volume Sold (Gallons)  Sum Volume Sold (Liters)  Mean Bottles Sold  \\\n",
       "0                   24832.44                  93986.47          19.588247   \n",
       "1                    1717.17                   6500.83           4.763409   \n",
       "2                   17321.29                  65562.88          18.374778   \n",
       "3                    1628.42                   6164.92           4.131010   \n",
       "4                    5737.98                  21719.49           7.699587   \n",
       "\n",
       "   Mean Retail Cost  Mean Volume Sold (Gallons)  Mean Volume Sold (Liters)  \n",
       "0         16.225173                    4.864337                  18.410670  \n",
       "1         15.963071                    1.261697                   4.776510  \n",
       "2         15.423895                    4.386247                  16.602401  \n",
       "3         12.897199                    1.134787                   4.296111  \n",
       "4         15.046966                    2.154705                   8.156023  "
      ]
     },
     "execution_count": 38,
     "metadata": {},
     "output_type": "execute_result"
    }
   ],
   "source": [
    "totals_by_store.columns = ['Store Number', 'County', 'Sum Bottles Sold', 'Sum Retail Cost',\n",
    "                           'Sum Volume Sold (Gallons)', 'Sum Volume Sold (Liters)', 'Mean Bottles Sold',\n",
    "                           'Mean Retail Cost', 'Mean Volume Sold (Gallons)', 'Mean Volume Sold (Liters)']\n",
    "totals_by_store.head()"
   ]
  },
  {
   "cell_type": "code",
   "execution_count": 39,
   "metadata": {
    "collapsed": false
   },
   "outputs": [
    {
     "data": {
      "text/html": [
       "<div>\n",
       "<table border=\"1\" class=\"dataframe\">\n",
       "  <thead>\n",
       "    <tr style=\"text-align: right;\">\n",
       "      <th></th>\n",
       "      <th>Month</th>\n",
       "      <th>Year</th>\n",
       "      <th>Date</th>\n",
       "      <th>Store Number</th>\n",
       "      <th>City</th>\n",
       "      <th>Zip Code</th>\n",
       "      <th>County Number</th>\n",
       "      <th>County</th>\n",
       "      <th>Category</th>\n",
       "      <th>Category Name</th>\n",
       "      <th>Vendor Number</th>\n",
       "      <th>Item Number</th>\n",
       "      <th>Item Description</th>\n",
       "      <th>Bottle Volume</th>\n",
       "      <th>State Bottle Cost</th>\n",
       "      <th>State Bottle Retail</th>\n",
       "      <th>Bottles Sold</th>\n",
       "      <th>Sale (Dollars)</th>\n",
       "      <th>Volume Sold (Liters)</th>\n",
       "      <th>Volume Sold (Gallons)</th>\n",
       "    </tr>\n",
       "  </thead>\n",
       "  <tbody>\n",
       "    <tr>\n",
       "      <th>0</th>\n",
       "      <td>3</td>\n",
       "      <td>2016</td>\n",
       "      <td>2016-03-31</td>\n",
       "      <td>5029</td>\n",
       "      <td>DAVENPORT</td>\n",
       "      <td>52806</td>\n",
       "      <td>82.0</td>\n",
       "      <td>Scott</td>\n",
       "      <td>1022100.0</td>\n",
       "      <td>TEQUILA</td>\n",
       "      <td>370</td>\n",
       "      <td>87152</td>\n",
       "      <td>Avion Silver</td>\n",
       "      <td>375</td>\n",
       "      <td>9.99</td>\n",
       "      <td>14.99</td>\n",
       "      <td>12</td>\n",
       "      <td>179.88</td>\n",
       "      <td>4.5</td>\n",
       "      <td>1.19</td>\n",
       "    </tr>\n",
       "    <tr>\n",
       "      <th>1</th>\n",
       "      <td>3</td>\n",
       "      <td>2016</td>\n",
       "      <td>2016-03-31</td>\n",
       "      <td>5029</td>\n",
       "      <td>DAVENPORT</td>\n",
       "      <td>52806</td>\n",
       "      <td>82.0</td>\n",
       "      <td>Scott</td>\n",
       "      <td>1022100.0</td>\n",
       "      <td>TEQUILA</td>\n",
       "      <td>395</td>\n",
       "      <td>89197</td>\n",
       "      <td>Jose Cuervo Especial Reposado Tequila</td>\n",
       "      <td>1000</td>\n",
       "      <td>12.50</td>\n",
       "      <td>18.75</td>\n",
       "      <td>2</td>\n",
       "      <td>37.50</td>\n",
       "      <td>2.0</td>\n",
       "      <td>0.53</td>\n",
       "    </tr>\n",
       "  </tbody>\n",
       "</table>\n",
       "</div>"
      ],
      "text/plain": [
       "   Month  Year       Date  Store Number       City Zip Code  County Number  \\\n",
       "0      3  2016 2016-03-31          5029  DAVENPORT    52806           82.0   \n",
       "1      3  2016 2016-03-31          5029  DAVENPORT    52806           82.0   \n",
       "\n",
       "  County   Category Category Name  Vendor Number  Item Number  \\\n",
       "0  Scott  1022100.0       TEQUILA            370        87152   \n",
       "1  Scott  1022100.0       TEQUILA            395        89197   \n",
       "\n",
       "                        Item Description  Bottle Volume  State Bottle Cost  \\\n",
       "0                           Avion Silver            375               9.99   \n",
       "1  Jose Cuervo Especial Reposado Tequila           1000              12.50   \n",
       "\n",
       "   State Bottle Retail  Bottles Sold  Sale (Dollars)  Volume Sold (Liters)  \\\n",
       "0                14.99            12          179.88                   4.5   \n",
       "1                18.75             2           37.50                   2.0   \n",
       "\n",
       "   Volume Sold (Gallons)  \n",
       "0                   1.19  \n",
       "1                   0.53  "
      ]
     },
     "execution_count": 39,
     "metadata": {},
     "output_type": "execute_result"
    }
   ],
   "source": [
    "df.head(2)"
   ]
  },
  {
   "cell_type": "code",
   "execution_count": 40,
   "metadata": {
    "collapsed": false
   },
   "outputs": [
    {
     "data": {
      "text/html": [
       "<div>\n",
       "<table border=\"1\" class=\"dataframe\">\n",
       "  <thead>\n",
       "    <tr style=\"text-align: right;\">\n",
       "      <th></th>\n",
       "      <th>Store Number</th>\n",
       "      <th>sum Bottles Sold</th>\n",
       "      <th>sum Sale (Dollars)</th>\n",
       "      <th>sum Volume Sold (Liters)</th>\n",
       "    </tr>\n",
       "  </thead>\n",
       "  <tbody>\n",
       "    <tr>\n",
       "      <th>0</th>\n",
       "      <td>2106</td>\n",
       "      <td>23316</td>\n",
       "      <td>337166.53</td>\n",
       "      <td>21815.55</td>\n",
       "    </tr>\n",
       "    <tr>\n",
       "      <th>1</th>\n",
       "      <td>2113</td>\n",
       "      <td>1618</td>\n",
       "      <td>22351.86</td>\n",
       "      <td>1604.08</td>\n",
       "    </tr>\n",
       "    <tr>\n",
       "      <th>2</th>\n",
       "      <td>2130</td>\n",
       "      <td>17707</td>\n",
       "      <td>277764.46</td>\n",
       "      <td>16176.37</td>\n",
       "    </tr>\n",
       "    <tr>\n",
       "      <th>3</th>\n",
       "      <td>2152</td>\n",
       "      <td>1375</td>\n",
       "      <td>16805.11</td>\n",
       "      <td>1414.59</td>\n",
       "    </tr>\n",
       "    <tr>\n",
       "      <th>4</th>\n",
       "      <td>2178</td>\n",
       "      <td>4279</td>\n",
       "      <td>54411.42</td>\n",
       "      <td>4376.38</td>\n",
       "    </tr>\n",
       "  </tbody>\n",
       "</table>\n",
       "</div>"
      ],
      "text/plain": [
       "   Store Number  sum Bottles Sold  sum Sale (Dollars)  \\\n",
       "0          2106             23316           337166.53   \n",
       "1          2113              1618            22351.86   \n",
       "2          2130             17707           277764.46   \n",
       "3          2152              1375            16805.11   \n",
       "4          2178              4279            54411.42   \n",
       "\n",
       "   sum Volume Sold (Liters)  \n",
       "0                  21815.55  \n",
       "1                   1604.08  \n",
       "2                  16176.37  \n",
       "3                   1414.59  \n",
       "4                   4376.38  "
      ]
     },
     "execution_count": 40,
     "metadata": {},
     "output_type": "execute_result"
    }
   ],
   "source": [
    "q1_2015 = pd.pivot_table(df[((df['Year'] == 2015) &  (df['Month'] <= 3))], \n",
    "                                   values=['Sale', 'Bottles Sold',\n",
    "                                           'Volume Sold (Liters)', 'Sale (Dollars)'], \n",
    "                                   index=['Store Number'], aggfunc=[np.sum])\n",
    "q1_2015.columns = [' '.join(col).strip() for col in q1_2015.columns.values]\n",
    "q1_2015.reset_index(inplace=True)\n",
    "q1_2015.head()"
   ]
  },
  {
   "cell_type": "code",
   "execution_count": 41,
   "metadata": {
    "collapsed": false,
    "scrolled": true
   },
   "outputs": [
    {
     "data": {
      "text/html": [
       "<div>\n",
       "<table border=\"1\" class=\"dataframe\">\n",
       "  <thead>\n",
       "    <tr style=\"text-align: right;\">\n",
       "      <th></th>\n",
       "      <th>Store Number</th>\n",
       "      <th>County</th>\n",
       "      <th>Sum Bottles Sold</th>\n",
       "      <th>Sum Retail Cost</th>\n",
       "      <th>Sum Volume Sold (Gallons)</th>\n",
       "      <th>Sum Volume Sold (Liters)</th>\n",
       "      <th>Mean Bottles Sold</th>\n",
       "      <th>Mean Retail Cost</th>\n",
       "      <th>Mean Volume Sold (Gallons)</th>\n",
       "      <th>Mean Volume Sold (Liters)</th>\n",
       "      <th>sum Bottles Sold</th>\n",
       "      <th>sum Sale (Dollars)</th>\n",
       "      <th>sum Volume Sold (Liters)</th>\n",
       "    </tr>\n",
       "  </thead>\n",
       "  <tbody>\n",
       "    <tr>\n",
       "      <th>0</th>\n",
       "      <td>2106</td>\n",
       "      <td>Black Hawk</td>\n",
       "      <td>99998</td>\n",
       "      <td>82829.51</td>\n",
       "      <td>24832.44</td>\n",
       "      <td>93986.47</td>\n",
       "      <td>19.588247</td>\n",
       "      <td>16.225173</td>\n",
       "      <td>4.864337</td>\n",
       "      <td>18.410670</td>\n",
       "      <td>23316</td>\n",
       "      <td>337166.53</td>\n",
       "      <td>21815.55</td>\n",
       "    </tr>\n",
       "    <tr>\n",
       "      <th>1</th>\n",
       "      <td>2113</td>\n",
       "      <td>Webster</td>\n",
       "      <td>6483</td>\n",
       "      <td>21725.74</td>\n",
       "      <td>1717.17</td>\n",
       "      <td>6500.83</td>\n",
       "      <td>4.763409</td>\n",
       "      <td>15.963071</td>\n",
       "      <td>1.261697</td>\n",
       "      <td>4.776510</td>\n",
       "      <td>1618</td>\n",
       "      <td>22351.86</td>\n",
       "      <td>1604.08</td>\n",
       "    </tr>\n",
       "    <tr>\n",
       "      <th>2</th>\n",
       "      <td>2130</td>\n",
       "      <td>Black Hawk</td>\n",
       "      <td>72562</td>\n",
       "      <td>60908.96</td>\n",
       "      <td>17321.29</td>\n",
       "      <td>65562.88</td>\n",
       "      <td>18.374778</td>\n",
       "      <td>15.423895</td>\n",
       "      <td>4.386247</td>\n",
       "      <td>16.602401</td>\n",
       "      <td>17707</td>\n",
       "      <td>277764.46</td>\n",
       "      <td>16176.37</td>\n",
       "    </tr>\n",
       "    <tr>\n",
       "      <th>3</th>\n",
       "      <td>2152</td>\n",
       "      <td>Cerro Gordo</td>\n",
       "      <td>5928</td>\n",
       "      <td>18507.48</td>\n",
       "      <td>1628.42</td>\n",
       "      <td>6164.92</td>\n",
       "      <td>4.131010</td>\n",
       "      <td>12.897199</td>\n",
       "      <td>1.134787</td>\n",
       "      <td>4.296111</td>\n",
       "      <td>1375</td>\n",
       "      <td>16805.11</td>\n",
       "      <td>1414.59</td>\n",
       "    </tr>\n",
       "    <tr>\n",
       "      <th>4</th>\n",
       "      <td>2178</td>\n",
       "      <td>Allamakee</td>\n",
       "      <td>20504</td>\n",
       "      <td>40070.07</td>\n",
       "      <td>5737.98</td>\n",
       "      <td>21719.49</td>\n",
       "      <td>7.699587</td>\n",
       "      <td>15.046966</td>\n",
       "      <td>2.154705</td>\n",
       "      <td>8.156023</td>\n",
       "      <td>4279</td>\n",
       "      <td>54411.42</td>\n",
       "      <td>4376.38</td>\n",
       "    </tr>\n",
       "  </tbody>\n",
       "</table>\n",
       "</div>"
      ],
      "text/plain": [
       "   Store Number       County  Sum Bottles Sold  Sum Retail Cost  \\\n",
       "0          2106   Black Hawk             99998         82829.51   \n",
       "1          2113      Webster              6483         21725.74   \n",
       "2          2130   Black Hawk             72562         60908.96   \n",
       "3          2152  Cerro Gordo              5928         18507.48   \n",
       "4          2178    Allamakee             20504         40070.07   \n",
       "\n",
       "   Sum Volume Sold (Gallons)  Sum Volume Sold (Liters)  Mean Bottles Sold  \\\n",
       "0                   24832.44                  93986.47          19.588247   \n",
       "1                    1717.17                   6500.83           4.763409   \n",
       "2                   17321.29                  65562.88          18.374778   \n",
       "3                    1628.42                   6164.92           4.131010   \n",
       "4                    5737.98                  21719.49           7.699587   \n",
       "\n",
       "   Mean Retail Cost  Mean Volume Sold (Gallons)  Mean Volume Sold (Liters)  \\\n",
       "0         16.225173                    4.864337                  18.410670   \n",
       "1         15.963071                    1.261697                   4.776510   \n",
       "2         15.423895                    4.386247                  16.602401   \n",
       "3         12.897199                    1.134787                   4.296111   \n",
       "4         15.046966                    2.154705                   8.156023   \n",
       "\n",
       "   sum Bottles Sold  sum Sale (Dollars)  sum Volume Sold (Liters)  \n",
       "0             23316           337166.53                  21815.55  \n",
       "1              1618            22351.86                   1604.08  \n",
       "2             17707           277764.46                  16176.37  \n",
       "3              1375            16805.11                   1414.59  \n",
       "4              4279            54411.42                   4376.38  "
      ]
     },
     "execution_count": 41,
     "metadata": {},
     "output_type": "execute_result"
    }
   ],
   "source": [
    "sales_2015 = pd.merge(totals_by_store, q1_2015, how='inner', on='Store Number')\n",
    "sales_2015.head()"
   ]
  },
  {
   "cell_type": "code",
   "execution_count": 42,
   "metadata": {
    "collapsed": false
   },
   "outputs": [
    {
     "data": {
      "text/plain": [
       "False    1283\n",
       "Name: sum Sale (Dollars), dtype: int64"
      ]
     },
     "execution_count": 42,
     "metadata": {},
     "output_type": "execute_result"
    }
   ],
   "source": [
    "sales_2015['sum Sale (Dollars)'].isnull().value_counts()"
   ]
  },
  {
   "cell_type": "code",
   "execution_count": 43,
   "metadata": {
    "collapsed": false
   },
   "outputs": [
    {
     "data": {
      "text/plain": [
       "(1283, 13)"
      ]
     },
     "execution_count": 43,
     "metadata": {},
     "output_type": "execute_result"
    }
   ],
   "source": [
    "sales_2015.shape"
   ]
  },
  {
   "cell_type": "code",
   "execution_count": 44,
   "metadata": {
    "collapsed": false
   },
   "outputs": [
    {
     "data": {
      "text/html": [
       "<div>\n",
       "<table border=\"1\" class=\"dataframe\">\n",
       "  <thead>\n",
       "    <tr style=\"text-align: right;\">\n",
       "      <th></th>\n",
       "      <th>Store Number</th>\n",
       "      <th>Total Number of Sales</th>\n",
       "    </tr>\n",
       "  </thead>\n",
       "  <tbody>\n",
       "    <tr>\n",
       "      <th>0</th>\n",
       "      <td>2633</td>\n",
       "      <td>24336</td>\n",
       "    </tr>\n",
       "    <tr>\n",
       "      <th>1</th>\n",
       "      <td>4829</td>\n",
       "      <td>22851</td>\n",
       "    </tr>\n",
       "    <tr>\n",
       "      <th>2</th>\n",
       "      <td>2512</td>\n",
       "      <td>17962</td>\n",
       "    </tr>\n",
       "    <tr>\n",
       "      <th>3</th>\n",
       "      <td>2572</td>\n",
       "      <td>17085</td>\n",
       "    </tr>\n",
       "    <tr>\n",
       "      <th>4</th>\n",
       "      <td>2515</td>\n",
       "      <td>16167</td>\n",
       "    </tr>\n",
       "  </tbody>\n",
       "</table>\n",
       "</div>"
      ],
      "text/plain": [
       "   Store Number  Total Number of Sales\n",
       "0          2633                  24336\n",
       "1          4829                  22851\n",
       "2          2512                  17962\n",
       "3          2572                  17085\n",
       "4          2515                  16167"
      ]
     },
     "execution_count": 44,
     "metadata": {},
     "output_type": "execute_result"
    }
   ],
   "source": [
    "total_2015_sales = pd.DataFrame(df['Store Number'].value_counts()).reset_index()\n",
    "total_2015_sales.columns = ['Store Number', 'Total Number of Sales']\n",
    "total_2015_sales.head()"
   ]
  },
  {
   "cell_type": "code",
   "execution_count": 45,
   "metadata": {
    "collapsed": false
   },
   "outputs": [
    {
     "data": {
      "text/html": [
       "<div>\n",
       "<table border=\"1\" class=\"dataframe\">\n",
       "  <thead>\n",
       "    <tr style=\"text-align: right;\">\n",
       "      <th></th>\n",
       "      <th>Store Number</th>\n",
       "      <th>County</th>\n",
       "      <th>Sum Bottles Sold</th>\n",
       "      <th>Sum Retail Cost</th>\n",
       "      <th>Sum Volume Sold (Gallons)</th>\n",
       "      <th>Sum Volume Sold (Liters)</th>\n",
       "      <th>Mean Bottles Sold</th>\n",
       "      <th>Mean Retail Cost</th>\n",
       "      <th>Mean Volume Sold (Gallons)</th>\n",
       "      <th>Mean Volume Sold (Liters)</th>\n",
       "      <th>sum Bottles Sold</th>\n",
       "      <th>sum Sale (Dollars)</th>\n",
       "      <th>sum Volume Sold (Liters)</th>\n",
       "      <th>Total Number of Sales</th>\n",
       "    </tr>\n",
       "  </thead>\n",
       "  <tbody>\n",
       "    <tr>\n",
       "      <th>0</th>\n",
       "      <td>2106</td>\n",
       "      <td>Black Hawk</td>\n",
       "      <td>99998</td>\n",
       "      <td>82829.51</td>\n",
       "      <td>24832.44</td>\n",
       "      <td>93986.47</td>\n",
       "      <td>19.588247</td>\n",
       "      <td>16.225173</td>\n",
       "      <td>4.864337</td>\n",
       "      <td>18.410670</td>\n",
       "      <td>23316</td>\n",
       "      <td>337166.53</td>\n",
       "      <td>21815.55</td>\n",
       "      <td>6334</td>\n",
       "    </tr>\n",
       "    <tr>\n",
       "      <th>1</th>\n",
       "      <td>2113</td>\n",
       "      <td>Webster</td>\n",
       "      <td>6483</td>\n",
       "      <td>21725.74</td>\n",
       "      <td>1717.17</td>\n",
       "      <td>6500.83</td>\n",
       "      <td>4.763409</td>\n",
       "      <td>15.963071</td>\n",
       "      <td>1.261697</td>\n",
       "      <td>4.776510</td>\n",
       "      <td>1618</td>\n",
       "      <td>22351.86</td>\n",
       "      <td>1604.08</td>\n",
       "      <td>1754</td>\n",
       "    </tr>\n",
       "    <tr>\n",
       "      <th>2</th>\n",
       "      <td>2130</td>\n",
       "      <td>Black Hawk</td>\n",
       "      <td>72562</td>\n",
       "      <td>60908.96</td>\n",
       "      <td>17321.29</td>\n",
       "      <td>65562.88</td>\n",
       "      <td>18.374778</td>\n",
       "      <td>15.423895</td>\n",
       "      <td>4.386247</td>\n",
       "      <td>16.602401</td>\n",
       "      <td>17707</td>\n",
       "      <td>277764.46</td>\n",
       "      <td>16176.37</td>\n",
       "      <td>4988</td>\n",
       "    </tr>\n",
       "    <tr>\n",
       "      <th>3</th>\n",
       "      <td>2152</td>\n",
       "      <td>Cerro Gordo</td>\n",
       "      <td>5928</td>\n",
       "      <td>18507.48</td>\n",
       "      <td>1628.42</td>\n",
       "      <td>6164.92</td>\n",
       "      <td>4.131010</td>\n",
       "      <td>12.897199</td>\n",
       "      <td>1.134787</td>\n",
       "      <td>4.296111</td>\n",
       "      <td>1375</td>\n",
       "      <td>16805.11</td>\n",
       "      <td>1414.59</td>\n",
       "      <td>1742</td>\n",
       "    </tr>\n",
       "    <tr>\n",
       "      <th>4</th>\n",
       "      <td>2178</td>\n",
       "      <td>Allamakee</td>\n",
       "      <td>20504</td>\n",
       "      <td>40070.07</td>\n",
       "      <td>5737.98</td>\n",
       "      <td>21719.49</td>\n",
       "      <td>7.699587</td>\n",
       "      <td>15.046966</td>\n",
       "      <td>2.154705</td>\n",
       "      <td>8.156023</td>\n",
       "      <td>4279</td>\n",
       "      <td>54411.42</td>\n",
       "      <td>4376.38</td>\n",
       "      <td>3262</td>\n",
       "    </tr>\n",
       "    <tr>\n",
       "      <th>5</th>\n",
       "      <td>2190</td>\n",
       "      <td>Polk</td>\n",
       "      <td>107522</td>\n",
       "      <td>229725.84</td>\n",
       "      <td>17021.88</td>\n",
       "      <td>64391.65</td>\n",
       "      <td>8.357065</td>\n",
       "      <td>17.855265</td>\n",
       "      <td>1.323013</td>\n",
       "      <td>5.004792</td>\n",
       "      <td>22457</td>\n",
       "      <td>255939.81</td>\n",
       "      <td>14065.73</td>\n",
       "      <td>16016</td>\n",
       "    </tr>\n",
       "    <tr>\n",
       "      <th>6</th>\n",
       "      <td>2191</td>\n",
       "      <td>Lee</td>\n",
       "      <td>79024</td>\n",
       "      <td>95227.02</td>\n",
       "      <td>21458.29</td>\n",
       "      <td>81224.18</td>\n",
       "      <td>14.200180</td>\n",
       "      <td>17.111774</td>\n",
       "      <td>3.855937</td>\n",
       "      <td>14.595540</td>\n",
       "      <td>20120</td>\n",
       "      <td>319020.69</td>\n",
       "      <td>20393.82</td>\n",
       "      <td>7055</td>\n",
       "    </tr>\n",
       "    <tr>\n",
       "      <th>7</th>\n",
       "      <td>2200</td>\n",
       "      <td>Sac</td>\n",
       "      <td>15410</td>\n",
       "      <td>67743.76</td>\n",
       "      <td>4567.20</td>\n",
       "      <td>17291.84</td>\n",
       "      <td>3.970626</td>\n",
       "      <td>17.455233</td>\n",
       "      <td>1.176810</td>\n",
       "      <td>4.455511</td>\n",
       "      <td>3075</td>\n",
       "      <td>45340.33</td>\n",
       "      <td>3393.35</td>\n",
       "      <td>4822</td>\n",
       "    </tr>\n",
       "    <tr>\n",
       "      <th>8</th>\n",
       "      <td>2205</td>\n",
       "      <td>Page</td>\n",
       "      <td>17892</td>\n",
       "      <td>44477.09</td>\n",
       "      <td>3941.03</td>\n",
       "      <td>14919.66</td>\n",
       "      <td>6.048682</td>\n",
       "      <td>15.036204</td>\n",
       "      <td>1.332329</td>\n",
       "      <td>5.043834</td>\n",
       "      <td>4556</td>\n",
       "      <td>57849.23</td>\n",
       "      <td>3765.60</td>\n",
       "      <td>2958</td>\n",
       "    </tr>\n",
       "    <tr>\n",
       "      <th>9</th>\n",
       "      <td>2228</td>\n",
       "      <td>Madison</td>\n",
       "      <td>14932</td>\n",
       "      <td>42250.12</td>\n",
       "      <td>4013.71</td>\n",
       "      <td>15188.97</td>\n",
       "      <td>5.296914</td>\n",
       "      <td>14.987627</td>\n",
       "      <td>1.423806</td>\n",
       "      <td>5.388070</td>\n",
       "      <td>3974</td>\n",
       "      <td>51031.04</td>\n",
       "      <td>4213.40</td>\n",
       "      <td>3489</td>\n",
       "    </tr>\n",
       "    <tr>\n",
       "      <th>10</th>\n",
       "      <td>2233</td>\n",
       "      <td>Dickinson</td>\n",
       "      <td>22166</td>\n",
       "      <td>46379.74</td>\n",
       "      <td>6240.07</td>\n",
       "      <td>23620.75</td>\n",
       "      <td>8.771666</td>\n",
       "      <td>18.353676</td>\n",
       "      <td>2.469359</td>\n",
       "      <td>9.347349</td>\n",
       "      <td>4732</td>\n",
       "      <td>68657.91</td>\n",
       "      <td>5115.11</td>\n",
       "      <td>3009</td>\n",
       "    </tr>\n",
       "    <tr>\n",
       "      <th>11</th>\n",
       "      <td>2238</td>\n",
       "      <td>Polk</td>\n",
       "      <td>6633</td>\n",
       "      <td>9696.59</td>\n",
       "      <td>1525.08</td>\n",
       "      <td>5771.25</td>\n",
       "      <td>12.562500</td>\n",
       "      <td>18.364754</td>\n",
       "      <td>2.888409</td>\n",
       "      <td>10.930398</td>\n",
       "      <td>249</td>\n",
       "      <td>4151.93</td>\n",
       "      <td>225.50</td>\n",
       "      <td>634</td>\n",
       "    </tr>\n",
       "    <tr>\n",
       "      <th>12</th>\n",
       "      <td>2248</td>\n",
       "      <td>Polk</td>\n",
       "      <td>35560</td>\n",
       "      <td>99553.24</td>\n",
       "      <td>7623.04</td>\n",
       "      <td>28855.50</td>\n",
       "      <td>7.727075</td>\n",
       "      <td>21.632603</td>\n",
       "      <td>1.656462</td>\n",
       "      <td>6.270209</td>\n",
       "      <td>6640</td>\n",
       "      <td>121837.56</td>\n",
       "      <td>5604.59</td>\n",
       "      <td>5595</td>\n",
       "    </tr>\n",
       "    <tr>\n",
       "      <th>13</th>\n",
       "      <td>2285</td>\n",
       "      <td>Johnson</td>\n",
       "      <td>44321</td>\n",
       "      <td>64747.06</td>\n",
       "      <td>9805.76</td>\n",
       "      <td>37106.59</td>\n",
       "      <td>14.803273</td>\n",
       "      <td>21.625605</td>\n",
       "      <td>3.275137</td>\n",
       "      <td>12.393651</td>\n",
       "      <td>8259</td>\n",
       "      <td>146725.31</td>\n",
       "      <td>6818.67</td>\n",
       "      <td>3581</td>\n",
       "    </tr>\n",
       "    <tr>\n",
       "      <th>14</th>\n",
       "      <td>2290</td>\n",
       "      <td>Buena Vista</td>\n",
       "      <td>39483</td>\n",
       "      <td>129795.49</td>\n",
       "      <td>9644.12</td>\n",
       "      <td>36511.83</td>\n",
       "      <td>4.928598</td>\n",
       "      <td>16.202158</td>\n",
       "      <td>1.203860</td>\n",
       "      <td>4.557712</td>\n",
       "      <td>8573</td>\n",
       "      <td>119287.76</td>\n",
       "      <td>8116.02</td>\n",
       "      <td>10539</td>\n",
       "    </tr>\n",
       "    <tr>\n",
       "      <th>15</th>\n",
       "      <td>2327</td>\n",
       "      <td>Adams</td>\n",
       "      <td>8446</td>\n",
       "      <td>27171.39</td>\n",
       "      <td>1992.02</td>\n",
       "      <td>7547.62</td>\n",
       "      <td>4.700056</td>\n",
       "      <td>15.120417</td>\n",
       "      <td>1.108525</td>\n",
       "      <td>4.200122</td>\n",
       "      <td>1804</td>\n",
       "      <td>20335.03</td>\n",
       "      <td>1539.72</td>\n",
       "      <td>2240</td>\n",
       "    </tr>\n",
       "    <tr>\n",
       "      <th>16</th>\n",
       "      <td>2353</td>\n",
       "      <td>Howard</td>\n",
       "      <td>33651</td>\n",
       "      <td>54387.58</td>\n",
       "      <td>10020.92</td>\n",
       "      <td>37924.36</td>\n",
       "      <td>9.097324</td>\n",
       "      <td>14.703320</td>\n",
       "      <td>2.709089</td>\n",
       "      <td>10.252598</td>\n",
       "      <td>7907</td>\n",
       "      <td>110552.94</td>\n",
       "      <td>8656.40</td>\n",
       "      <td>4322</td>\n",
       "    </tr>\n",
       "    <tr>\n",
       "      <th>17</th>\n",
       "      <td>2367</td>\n",
       "      <td>Page</td>\n",
       "      <td>5594</td>\n",
       "      <td>7762.79</td>\n",
       "      <td>1180.08</td>\n",
       "      <td>4468.54</td>\n",
       "      <td>9.814035</td>\n",
       "      <td>13.618930</td>\n",
       "      <td>2.070316</td>\n",
       "      <td>7.839544</td>\n",
       "      <td>3294</td>\n",
       "      <td>39434.77</td>\n",
       "      <td>2683.10</td>\n",
       "      <td>570</td>\n",
       "    </tr>\n",
       "    <tr>\n",
       "      <th>18</th>\n",
       "      <td>2413</td>\n",
       "      <td>Dubuque</td>\n",
       "      <td>55587</td>\n",
       "      <td>72397.72</td>\n",
       "      <td>14319.67</td>\n",
       "      <td>54200.61</td>\n",
       "      <td>12.385695</td>\n",
       "      <td>16.131399</td>\n",
       "      <td>3.190657</td>\n",
       "      <td>12.076785</td>\n",
       "      <td>13574</td>\n",
       "      <td>204237.78</td>\n",
       "      <td>13412.92</td>\n",
       "      <td>5563</td>\n",
       "    </tr>\n",
       "    <tr>\n",
       "      <th>19</th>\n",
       "      <td>2445</td>\n",
       "      <td>Pottawattamie</td>\n",
       "      <td>6329</td>\n",
       "      <td>23735.01</td>\n",
       "      <td>1653.81</td>\n",
       "      <td>6258.16</td>\n",
       "      <td>3.767262</td>\n",
       "      <td>14.127982</td>\n",
       "      <td>0.984411</td>\n",
       "      <td>3.725095</td>\n",
       "      <td>1535</td>\n",
       "      <td>16939.15</td>\n",
       "      <td>1506.74</td>\n",
       "      <td>2037</td>\n",
       "    </tr>\n",
       "  </tbody>\n",
       "</table>\n",
       "</div>"
      ],
      "text/plain": [
       "    Store Number         County  Sum Bottles Sold  Sum Retail Cost  \\\n",
       "0           2106     Black Hawk             99998         82829.51   \n",
       "1           2113        Webster              6483         21725.74   \n",
       "2           2130     Black Hawk             72562         60908.96   \n",
       "3           2152    Cerro Gordo              5928         18507.48   \n",
       "4           2178      Allamakee             20504         40070.07   \n",
       "5           2190           Polk            107522        229725.84   \n",
       "6           2191            Lee             79024         95227.02   \n",
       "7           2200            Sac             15410         67743.76   \n",
       "8           2205           Page             17892         44477.09   \n",
       "9           2228        Madison             14932         42250.12   \n",
       "10          2233      Dickinson             22166         46379.74   \n",
       "11          2238           Polk              6633          9696.59   \n",
       "12          2248           Polk             35560         99553.24   \n",
       "13          2285        Johnson             44321         64747.06   \n",
       "14          2290    Buena Vista             39483        129795.49   \n",
       "15          2327          Adams              8446         27171.39   \n",
       "16          2353         Howard             33651         54387.58   \n",
       "17          2367           Page              5594          7762.79   \n",
       "18          2413        Dubuque             55587         72397.72   \n",
       "19          2445  Pottawattamie              6329         23735.01   \n",
       "\n",
       "    Sum Volume Sold (Gallons)  Sum Volume Sold (Liters)  Mean Bottles Sold  \\\n",
       "0                    24832.44                  93986.47          19.588247   \n",
       "1                     1717.17                   6500.83           4.763409   \n",
       "2                    17321.29                  65562.88          18.374778   \n",
       "3                     1628.42                   6164.92           4.131010   \n",
       "4                     5737.98                  21719.49           7.699587   \n",
       "5                    17021.88                  64391.65           8.357065   \n",
       "6                    21458.29                  81224.18          14.200180   \n",
       "7                     4567.20                  17291.84           3.970626   \n",
       "8                     3941.03                  14919.66           6.048682   \n",
       "9                     4013.71                  15188.97           5.296914   \n",
       "10                    6240.07                  23620.75           8.771666   \n",
       "11                    1525.08                   5771.25          12.562500   \n",
       "12                    7623.04                  28855.50           7.727075   \n",
       "13                    9805.76                  37106.59          14.803273   \n",
       "14                    9644.12                  36511.83           4.928598   \n",
       "15                    1992.02                   7547.62           4.700056   \n",
       "16                   10020.92                  37924.36           9.097324   \n",
       "17                    1180.08                   4468.54           9.814035   \n",
       "18                   14319.67                  54200.61          12.385695   \n",
       "19                    1653.81                   6258.16           3.767262   \n",
       "\n",
       "    Mean Retail Cost  Mean Volume Sold (Gallons)  Mean Volume Sold (Liters)  \\\n",
       "0          16.225173                    4.864337                  18.410670   \n",
       "1          15.963071                    1.261697                   4.776510   \n",
       "2          15.423895                    4.386247                  16.602401   \n",
       "3          12.897199                    1.134787                   4.296111   \n",
       "4          15.046966                    2.154705                   8.156023   \n",
       "5          17.855265                    1.323013                   5.004792   \n",
       "6          17.111774                    3.855937                  14.595540   \n",
       "7          17.455233                    1.176810                   4.455511   \n",
       "8          15.036204                    1.332329                   5.043834   \n",
       "9          14.987627                    1.423806                   5.388070   \n",
       "10         18.353676                    2.469359                   9.347349   \n",
       "11         18.364754                    2.888409                  10.930398   \n",
       "12         21.632603                    1.656462                   6.270209   \n",
       "13         21.625605                    3.275137                  12.393651   \n",
       "14         16.202158                    1.203860                   4.557712   \n",
       "15         15.120417                    1.108525                   4.200122   \n",
       "16         14.703320                    2.709089                  10.252598   \n",
       "17         13.618930                    2.070316                   7.839544   \n",
       "18         16.131399                    3.190657                  12.076785   \n",
       "19         14.127982                    0.984411                   3.725095   \n",
       "\n",
       "    sum Bottles Sold  sum Sale (Dollars)  sum Volume Sold (Liters)  \\\n",
       "0              23316           337166.53                  21815.55   \n",
       "1               1618            22351.86                   1604.08   \n",
       "2              17707           277764.46                  16176.37   \n",
       "3               1375            16805.11                   1414.59   \n",
       "4               4279            54411.42                   4376.38   \n",
       "5              22457           255939.81                  14065.73   \n",
       "6              20120           319020.69                  20393.82   \n",
       "7               3075            45340.33                   3393.35   \n",
       "8               4556            57849.23                   3765.60   \n",
       "9               3974            51031.04                   4213.40   \n",
       "10              4732            68657.91                   5115.11   \n",
       "11               249             4151.93                    225.50   \n",
       "12              6640           121837.56                   5604.59   \n",
       "13              8259           146725.31                   6818.67   \n",
       "14              8573           119287.76                   8116.02   \n",
       "15              1804            20335.03                   1539.72   \n",
       "16              7907           110552.94                   8656.40   \n",
       "17              3294            39434.77                   2683.10   \n",
       "18             13574           204237.78                  13412.92   \n",
       "19              1535            16939.15                   1506.74   \n",
       "\n",
       "    Total Number of Sales  \n",
       "0                    6334  \n",
       "1                    1754  \n",
       "2                    4988  \n",
       "3                    1742  \n",
       "4                    3262  \n",
       "5                   16016  \n",
       "6                    7055  \n",
       "7                    4822  \n",
       "8                    2958  \n",
       "9                    3489  \n",
       "10                   3009  \n",
       "11                    634  \n",
       "12                   5595  \n",
       "13                   3581  \n",
       "14                  10539  \n",
       "15                   2240  \n",
       "16                   4322  \n",
       "17                    570  \n",
       "18                   5563  \n",
       "19                   2037  "
      ]
     },
     "execution_count": 45,
     "metadata": {},
     "output_type": "execute_result"
    }
   ],
   "source": [
    "sales_totals_2015 = pd.merge(sales_2015, total_2015_sales, on='Store Number', how='left')\n",
    "sales_totals_2015.head(20)"
   ]
  },
  {
   "cell_type": "markdown",
   "metadata": {},
   "source": [
    "# Refine the data\n",
    "Look for any statistical relationships, correlations, or other relevant properties of the dataset."
   ]
  },
  {
   "cell_type": "code",
   "execution_count": 46,
   "metadata": {
    "collapsed": true
   },
   "outputs": [],
   "source": [
    "corr_df = sales_totals_2015[3:]"
   ]
  },
  {
   "cell_type": "code",
   "execution_count": 47,
   "metadata": {
    "collapsed": false
   },
   "outputs": [
    {
     "data": {
      "text/html": [
       "<div>\n",
       "<table border=\"1\" class=\"dataframe\">\n",
       "  <thead>\n",
       "    <tr style=\"text-align: right;\">\n",
       "      <th></th>\n",
       "      <th>Store Number</th>\n",
       "      <th>Sum Bottles Sold</th>\n",
       "      <th>Sum Retail Cost</th>\n",
       "      <th>Sum Volume Sold (Gallons)</th>\n",
       "      <th>Sum Volume Sold (Liters)</th>\n",
       "      <th>Mean Bottles Sold</th>\n",
       "      <th>Mean Retail Cost</th>\n",
       "      <th>Mean Volume Sold (Gallons)</th>\n",
       "      <th>Mean Volume Sold (Liters)</th>\n",
       "      <th>sum Bottles Sold</th>\n",
       "      <th>sum Sale (Dollars)</th>\n",
       "      <th>sum Volume Sold (Liters)</th>\n",
       "      <th>Total Number of Sales</th>\n",
       "    </tr>\n",
       "  </thead>\n",
       "  <tbody>\n",
       "    <tr>\n",
       "      <th>Store Number</th>\n",
       "      <td>1.000000</td>\n",
       "      <td>-0.364649</td>\n",
       "      <td>-0.542508</td>\n",
       "      <td>-0.380713</td>\n",
       "      <td>-0.380729</td>\n",
       "      <td>0.257519</td>\n",
       "      <td>-0.232064</td>\n",
       "      <td>0.077934</td>\n",
       "      <td>0.077803</td>\n",
       "      <td>-0.355007</td>\n",
       "      <td>-0.327000</td>\n",
       "      <td>-0.371751</td>\n",
       "      <td>-0.552979</td>\n",
       "    </tr>\n",
       "    <tr>\n",
       "      <th>Sum Bottles Sold</th>\n",
       "      <td>-0.364649</td>\n",
       "      <td>1.000000</td>\n",
       "      <td>0.805866</td>\n",
       "      <td>0.985534</td>\n",
       "      <td>0.985521</td>\n",
       "      <td>0.218073</td>\n",
       "      <td>0.258226</td>\n",
       "      <td>0.294300</td>\n",
       "      <td>0.294318</td>\n",
       "      <td>0.989684</td>\n",
       "      <td>0.976734</td>\n",
       "      <td>0.974774</td>\n",
       "      <td>0.777332</td>\n",
       "    </tr>\n",
       "    <tr>\n",
       "      <th>Sum Retail Cost</th>\n",
       "      <td>-0.542508</td>\n",
       "      <td>0.805866</td>\n",
       "      <td>1.000000</td>\n",
       "      <td>0.787415</td>\n",
       "      <td>0.787396</td>\n",
       "      <td>-0.040625</td>\n",
       "      <td>0.343159</td>\n",
       "      <td>0.045382</td>\n",
       "      <td>0.045430</td>\n",
       "      <td>0.776394</td>\n",
       "      <td>0.745108</td>\n",
       "      <td>0.760721</td>\n",
       "      <td>0.988914</td>\n",
       "    </tr>\n",
       "    <tr>\n",
       "      <th>Sum Volume Sold (Gallons)</th>\n",
       "      <td>-0.380713</td>\n",
       "      <td>0.985534</td>\n",
       "      <td>0.787415</td>\n",
       "      <td>1.000000</td>\n",
       "      <td>1.000000</td>\n",
       "      <td>0.224453</td>\n",
       "      <td>0.303210</td>\n",
       "      <td>0.357415</td>\n",
       "      <td>0.357454</td>\n",
       "      <td>0.979939</td>\n",
       "      <td>0.985274</td>\n",
       "      <td>0.990562</td>\n",
       "      <td>0.751918</td>\n",
       "    </tr>\n",
       "    <tr>\n",
       "      <th>Sum Volume Sold (Liters)</th>\n",
       "      <td>-0.380729</td>\n",
       "      <td>0.985521</td>\n",
       "      <td>0.787396</td>\n",
       "      <td>1.000000</td>\n",
       "      <td>1.000000</td>\n",
       "      <td>0.224449</td>\n",
       "      <td>0.303231</td>\n",
       "      <td>0.357436</td>\n",
       "      <td>0.357475</td>\n",
       "      <td>0.979928</td>\n",
       "      <td>0.985269</td>\n",
       "      <td>0.990563</td>\n",
       "      <td>0.751897</td>\n",
       "    </tr>\n",
       "    <tr>\n",
       "      <th>Mean Bottles Sold</th>\n",
       "      <td>0.257519</td>\n",
       "      <td>0.218073</td>\n",
       "      <td>-0.040625</td>\n",
       "      <td>0.224453</td>\n",
       "      <td>0.224449</td>\n",
       "      <td>1.000000</td>\n",
       "      <td>0.052489</td>\n",
       "      <td>0.870264</td>\n",
       "      <td>0.870157</td>\n",
       "      <td>0.213874</td>\n",
       "      <td>0.223887</td>\n",
       "      <td>0.213835</td>\n",
       "      <td>-0.063473</td>\n",
       "    </tr>\n",
       "    <tr>\n",
       "      <th>Mean Retail Cost</th>\n",
       "      <td>-0.232064</td>\n",
       "      <td>0.258226</td>\n",
       "      <td>0.343159</td>\n",
       "      <td>0.303210</td>\n",
       "      <td>0.303231</td>\n",
       "      <td>0.052489</td>\n",
       "      <td>1.000000</td>\n",
       "      <td>0.294261</td>\n",
       "      <td>0.294381</td>\n",
       "      <td>0.245618</td>\n",
       "      <td>0.287566</td>\n",
       "      <td>0.287740</td>\n",
       "      <td>0.276004</td>\n",
       "    </tr>\n",
       "    <tr>\n",
       "      <th>Mean Volume Sold (Gallons)</th>\n",
       "      <td>0.077934</td>\n",
       "      <td>0.294300</td>\n",
       "      <td>0.045382</td>\n",
       "      <td>0.357415</td>\n",
       "      <td>0.357436</td>\n",
       "      <td>0.870264</td>\n",
       "      <td>0.294261</td>\n",
       "      <td>1.000000</td>\n",
       "      <td>1.000000</td>\n",
       "      <td>0.289833</td>\n",
       "      <td>0.333195</td>\n",
       "      <td>0.340959</td>\n",
       "      <td>0.009036</td>\n",
       "    </tr>\n",
       "    <tr>\n",
       "      <th>Mean Volume Sold (Liters)</th>\n",
       "      <td>0.077803</td>\n",
       "      <td>0.294318</td>\n",
       "      <td>0.045430</td>\n",
       "      <td>0.357454</td>\n",
       "      <td>0.357475</td>\n",
       "      <td>0.870157</td>\n",
       "      <td>0.294381</td>\n",
       "      <td>1.000000</td>\n",
       "      <td>1.000000</td>\n",
       "      <td>0.289853</td>\n",
       "      <td>0.333224</td>\n",
       "      <td>0.340999</td>\n",
       "      <td>0.009083</td>\n",
       "    </tr>\n",
       "    <tr>\n",
       "      <th>sum Bottles Sold</th>\n",
       "      <td>-0.355007</td>\n",
       "      <td>0.989684</td>\n",
       "      <td>0.776394</td>\n",
       "      <td>0.979939</td>\n",
       "      <td>0.979928</td>\n",
       "      <td>0.213874</td>\n",
       "      <td>0.245618</td>\n",
       "      <td>0.289833</td>\n",
       "      <td>0.289853</td>\n",
       "      <td>1.000000</td>\n",
       "      <td>0.988642</td>\n",
       "      <td>0.987893</td>\n",
       "      <td>0.745973</td>\n",
       "    </tr>\n",
       "    <tr>\n",
       "      <th>sum Sale (Dollars)</th>\n",
       "      <td>-0.327000</td>\n",
       "      <td>0.976734</td>\n",
       "      <td>0.745108</td>\n",
       "      <td>0.985274</td>\n",
       "      <td>0.985269</td>\n",
       "      <td>0.223887</td>\n",
       "      <td>0.287566</td>\n",
       "      <td>0.333195</td>\n",
       "      <td>0.333224</td>\n",
       "      <td>0.988642</td>\n",
       "      <td>1.000000</td>\n",
       "      <td>0.993311</td>\n",
       "      <td>0.701470</td>\n",
       "    </tr>\n",
       "    <tr>\n",
       "      <th>sum Volume Sold (Liters)</th>\n",
       "      <td>-0.371751</td>\n",
       "      <td>0.974774</td>\n",
       "      <td>0.760721</td>\n",
       "      <td>0.990562</td>\n",
       "      <td>0.990563</td>\n",
       "      <td>0.213835</td>\n",
       "      <td>0.287740</td>\n",
       "      <td>0.340959</td>\n",
       "      <td>0.340999</td>\n",
       "      <td>0.987893</td>\n",
       "      <td>0.993311</td>\n",
       "      <td>1.000000</td>\n",
       "      <td>0.724118</td>\n",
       "    </tr>\n",
       "    <tr>\n",
       "      <th>Total Number of Sales</th>\n",
       "      <td>-0.552979</td>\n",
       "      <td>0.777332</td>\n",
       "      <td>0.988914</td>\n",
       "      <td>0.751918</td>\n",
       "      <td>0.751897</td>\n",
       "      <td>-0.063473</td>\n",
       "      <td>0.276004</td>\n",
       "      <td>0.009036</td>\n",
       "      <td>0.009083</td>\n",
       "      <td>0.745973</td>\n",
       "      <td>0.701470</td>\n",
       "      <td>0.724118</td>\n",
       "      <td>1.000000</td>\n",
       "    </tr>\n",
       "  </tbody>\n",
       "</table>\n",
       "</div>"
      ],
      "text/plain": [
       "                            Store Number  Sum Bottles Sold  Sum Retail Cost  \\\n",
       "Store Number                    1.000000         -0.364649        -0.542508   \n",
       "Sum Bottles Sold               -0.364649          1.000000         0.805866   \n",
       "Sum Retail Cost                -0.542508          0.805866         1.000000   \n",
       "Sum Volume Sold (Gallons)      -0.380713          0.985534         0.787415   \n",
       "Sum Volume Sold (Liters)       -0.380729          0.985521         0.787396   \n",
       "Mean Bottles Sold               0.257519          0.218073        -0.040625   \n",
       "Mean Retail Cost               -0.232064          0.258226         0.343159   \n",
       "Mean Volume Sold (Gallons)      0.077934          0.294300         0.045382   \n",
       "Mean Volume Sold (Liters)       0.077803          0.294318         0.045430   \n",
       "sum Bottles Sold               -0.355007          0.989684         0.776394   \n",
       "sum Sale (Dollars)             -0.327000          0.976734         0.745108   \n",
       "sum Volume Sold (Liters)       -0.371751          0.974774         0.760721   \n",
       "Total Number of Sales          -0.552979          0.777332         0.988914   \n",
       "\n",
       "                            Sum Volume Sold (Gallons)  \\\n",
       "Store Number                                -0.380713   \n",
       "Sum Bottles Sold                             0.985534   \n",
       "Sum Retail Cost                              0.787415   \n",
       "Sum Volume Sold (Gallons)                    1.000000   \n",
       "Sum Volume Sold (Liters)                     1.000000   \n",
       "Mean Bottles Sold                            0.224453   \n",
       "Mean Retail Cost                             0.303210   \n",
       "Mean Volume Sold (Gallons)                   0.357415   \n",
       "Mean Volume Sold (Liters)                    0.357454   \n",
       "sum Bottles Sold                             0.979939   \n",
       "sum Sale (Dollars)                           0.985274   \n",
       "sum Volume Sold (Liters)                     0.990562   \n",
       "Total Number of Sales                        0.751918   \n",
       "\n",
       "                            Sum Volume Sold (Liters)  Mean Bottles Sold  \\\n",
       "Store Number                               -0.380729           0.257519   \n",
       "Sum Bottles Sold                            0.985521           0.218073   \n",
       "Sum Retail Cost                             0.787396          -0.040625   \n",
       "Sum Volume Sold (Gallons)                   1.000000           0.224453   \n",
       "Sum Volume Sold (Liters)                    1.000000           0.224449   \n",
       "Mean Bottles Sold                           0.224449           1.000000   \n",
       "Mean Retail Cost                            0.303231           0.052489   \n",
       "Mean Volume Sold (Gallons)                  0.357436           0.870264   \n",
       "Mean Volume Sold (Liters)                   0.357475           0.870157   \n",
       "sum Bottles Sold                            0.979928           0.213874   \n",
       "sum Sale (Dollars)                          0.985269           0.223887   \n",
       "sum Volume Sold (Liters)                    0.990563           0.213835   \n",
       "Total Number of Sales                       0.751897          -0.063473   \n",
       "\n",
       "                            Mean Retail Cost  Mean Volume Sold (Gallons)  \\\n",
       "Store Number                       -0.232064                    0.077934   \n",
       "Sum Bottles Sold                    0.258226                    0.294300   \n",
       "Sum Retail Cost                     0.343159                    0.045382   \n",
       "Sum Volume Sold (Gallons)           0.303210                    0.357415   \n",
       "Sum Volume Sold (Liters)            0.303231                    0.357436   \n",
       "Mean Bottles Sold                   0.052489                    0.870264   \n",
       "Mean Retail Cost                    1.000000                    0.294261   \n",
       "Mean Volume Sold (Gallons)          0.294261                    1.000000   \n",
       "Mean Volume Sold (Liters)           0.294381                    1.000000   \n",
       "sum Bottles Sold                    0.245618                    0.289833   \n",
       "sum Sale (Dollars)                  0.287566                    0.333195   \n",
       "sum Volume Sold (Liters)            0.287740                    0.340959   \n",
       "Total Number of Sales               0.276004                    0.009036   \n",
       "\n",
       "                            Mean Volume Sold (Liters)  sum Bottles Sold  \\\n",
       "Store Number                                 0.077803         -0.355007   \n",
       "Sum Bottles Sold                             0.294318          0.989684   \n",
       "Sum Retail Cost                              0.045430          0.776394   \n",
       "Sum Volume Sold (Gallons)                    0.357454          0.979939   \n",
       "Sum Volume Sold (Liters)                     0.357475          0.979928   \n",
       "Mean Bottles Sold                            0.870157          0.213874   \n",
       "Mean Retail Cost                             0.294381          0.245618   \n",
       "Mean Volume Sold (Gallons)                   1.000000          0.289833   \n",
       "Mean Volume Sold (Liters)                    1.000000          0.289853   \n",
       "sum Bottles Sold                             0.289853          1.000000   \n",
       "sum Sale (Dollars)                           0.333224          0.988642   \n",
       "sum Volume Sold (Liters)                     0.340999          0.987893   \n",
       "Total Number of Sales                        0.009083          0.745973   \n",
       "\n",
       "                            sum Sale (Dollars)  sum Volume Sold (Liters)  \\\n",
       "Store Number                         -0.327000                 -0.371751   \n",
       "Sum Bottles Sold                      0.976734                  0.974774   \n",
       "Sum Retail Cost                       0.745108                  0.760721   \n",
       "Sum Volume Sold (Gallons)             0.985274                  0.990562   \n",
       "Sum Volume Sold (Liters)              0.985269                  0.990563   \n",
       "Mean Bottles Sold                     0.223887                  0.213835   \n",
       "Mean Retail Cost                      0.287566                  0.287740   \n",
       "Mean Volume Sold (Gallons)            0.333195                  0.340959   \n",
       "Mean Volume Sold (Liters)             0.333224                  0.340999   \n",
       "sum Bottles Sold                      0.988642                  0.987893   \n",
       "sum Sale (Dollars)                    1.000000                  0.993311   \n",
       "sum Volume Sold (Liters)              0.993311                  1.000000   \n",
       "Total Number of Sales                 0.701470                  0.724118   \n",
       "\n",
       "                            Total Number of Sales  \n",
       "Store Number                            -0.552979  \n",
       "Sum Bottles Sold                         0.777332  \n",
       "Sum Retail Cost                          0.988914  \n",
       "Sum Volume Sold (Gallons)                0.751918  \n",
       "Sum Volume Sold (Liters)                 0.751897  \n",
       "Mean Bottles Sold                       -0.063473  \n",
       "Mean Retail Cost                         0.276004  \n",
       "Mean Volume Sold (Gallons)               0.009036  \n",
       "Mean Volume Sold (Liters)                0.009083  \n",
       "sum Bottles Sold                         0.745973  \n",
       "sum Sale (Dollars)                       0.701470  \n",
       "sum Volume Sold (Liters)                 0.724118  \n",
       "Total Number of Sales                    1.000000  "
      ]
     },
     "execution_count": 47,
     "metadata": {},
     "output_type": "execute_result"
    }
   ],
   "source": [
    "corr_df.corr()"
   ]
  },
  {
   "cell_type": "code",
   "execution_count": 48,
   "metadata": {
    "collapsed": false
   },
   "outputs": [
    {
     "data": {
      "text/plain": [
       "<matplotlib.image.AxesImage at 0x11dc96c90>"
      ]
     },
     "execution_count": 48,
     "metadata": {},
     "output_type": "execute_result"
    },
    {
     "data": {
      "image/png": "[encoded data removed]",
      "text/plain": [
       "<matplotlib.figure.Figure at 0x11d97bdd0>"
      ]
     },
     "metadata": {},
     "output_type": "display_data"
    }
   ],
   "source": [
    "plt.matshow(corr_df.corr(), cmap='cool')"
   ]
  },
  {
   "cell_type": "markdown",
   "metadata": {},
   "source": [
    "# Build your models & Plot your results\n",
    "\n",
    "Make sure that you record any valuable information."
   ]
  },
  {
   "cell_type": "code",
   "execution_count": 49,
   "metadata": {
    "collapsed": true
   },
   "outputs": [],
   "source": [
    "import statsmodels.api as sm\n",
    "from scipy import stats\n",
    "from sklearn import linear_model\n",
    "from sklearn.cross_validation import train_test_split"
   ]
  },
  {
   "cell_type": "code",
   "execution_count": 50,
   "metadata": {
    "collapsed": false
   },
   "outputs": [
    {
     "data": {
      "text/plain": [
       "0    337166.53\n",
       "1     22351.86\n",
       "2    277764.46\n",
       "3     16805.11\n",
       "4     54411.42\n",
       "Name: sum Sale (Dollars), dtype: float64"
      ]
     },
     "execution_count": 50,
     "metadata": {},
     "output_type": "execute_result"
    }
   ],
   "source": [
    "#Setting Sum of Total Sales to what we want to predict.\n",
    "y = sales_totals_2015['sum Sale (Dollars)']\n",
    "y.head()"
   ]
  },
  {
   "cell_type": "markdown",
   "metadata": {},
   "source": [
    "We will use the Total Sales Amount  (['sum Sale (Dollars)']) as the Y variable that we wish to predict. In order to predict this Y, I will run a series of Linear Regressions to determine what X variables help to predict Y. In doing this, we can determine how to adjust Xs for their movement with Y. The ultimate deliverable insight would be to adjus the X variables at particular stores in order to maximize sales."
   ]
  },
  {
   "cell_type": "code",
   "execution_count": 51,
   "metadata": {
    "collapsed": false
   },
   "outputs": [
    {
     "data": {
      "text/plain": [
       "[['Sum Bottles Sold'],\n",
       " ['Sum Retail Cost'],\n",
       " ['Sum Volume Sold (Gallons)'],\n",
       " ['Sum Volume Sold (Liters)'],\n",
       " ['Mean Bottles Sold'],\n",
       " ['Mean Retail Cost'],\n",
       " ['Mean Volume Sold (Gallons)'],\n",
       " ['Mean Volume Sold (Liters)'],\n",
       " ['sum_q1_Bottles Sold'],\n",
       " ['sum_q1_Sale (Dollars)'],\n",
       " ['sum_q1_Volume Sold (Liters)']]"
      ]
     },
     "execution_count": 51,
     "metadata": {},
     "output_type": "execute_result"
    }
   ],
   "source": [
    "#Setting Xs to all factors that might predict Total Annual Sales \n",
    "xs = [['Sum Bottles Sold'], ['Sum Retail Cost'], ['Sum Volume Sold (Gallons)'], ['Sum Volume Sold (Liters)'],\n",
    "    ['Mean Bottles Sold'], ['Mean Retail Cost'], ['Mean Volume Sold (Gallons)'],['Mean Volume Sold (Liters)'], \n",
    "      ['sum_q1_Bottles Sold'], ['sum_q1_Sale (Dollars)'], ['sum_q1_Volume Sold (Liters)']]\n",
    "xs"
   ]
  },
  {
   "cell_type": "code",
   "execution_count": 52,
   "metadata": {
    "collapsed": false,
    "scrolled": true
   },
   "outputs": [
    {
     "data": {
      "text/plain": [
       "[[['Sum Retail Cost'], ['Sum Bottles Sold']],\n",
       " [['Sum Volume Sold (Gallons)'], ['Sum Bottles Sold']],\n",
       " [['Sum Volume Sold (Gallons)'], ['Sum Retail Cost']],\n",
       " [['Sum Volume Sold (Liters)'], ['Sum Bottles Sold']],\n",
       " [['Sum Volume Sold (Liters)'], ['Sum Retail Cost']],\n",
       " [['Sum Volume Sold (Liters)'], ['Sum Volume Sold (Gallons)']],\n",
       " [['Mean Bottles Sold'], ['Sum Bottles Sold']],\n",
       " [['Mean Bottles Sold'], ['Sum Retail Cost']],\n",
       " [['Mean Bottles Sold'], ['Sum Volume Sold (Gallons)']],\n",
       " [['Mean Bottles Sold'], ['Sum Volume Sold (Liters)']],\n",
       " [['Mean Retail Cost'], ['Sum Bottles Sold']],\n",
       " [['Mean Retail Cost'], ['Sum Retail Cost']],\n",
       " [['Mean Retail Cost'], ['Sum Volume Sold (Gallons)']],\n",
       " [['Mean Retail Cost'], ['Sum Volume Sold (Liters)']],\n",
       " [['Mean Retail Cost'], ['Mean Bottles Sold']],\n",
       " [['Mean Volume Sold (Gallons)'], ['Sum Bottles Sold']],\n",
       " [['Mean Volume Sold (Gallons)'], ['Sum Retail Cost']],\n",
       " [['Mean Volume Sold (Gallons)'], ['Sum Volume Sold (Gallons)']],\n",
       " [['Mean Volume Sold (Gallons)'], ['Sum Volume Sold (Liters)']],\n",
       " [['Mean Volume Sold (Gallons)'], ['Mean Bottles Sold']],\n",
       " [['Mean Volume Sold (Gallons)'], ['Mean Retail Cost']],\n",
       " [['Mean Volume Sold (Liters)'], ['Sum Bottles Sold']],\n",
       " [['Mean Volume Sold (Liters)'], ['Sum Retail Cost']],\n",
       " [['Mean Volume Sold (Liters)'], ['Sum Volume Sold (Gallons)']],\n",
       " [['Mean Volume Sold (Liters)'], ['Sum Volume Sold (Liters)']],\n",
       " [['Mean Volume Sold (Liters)'], ['Mean Bottles Sold']],\n",
       " [['Mean Volume Sold (Liters)'], ['Mean Retail Cost']],\n",
       " [['Mean Volume Sold (Liters)'], ['Mean Volume Sold (Gallons)']],\n",
       " [['sum_q1_Bottles Sold'], ['Sum Bottles Sold']],\n",
       " [['sum_q1_Bottles Sold'], ['Sum Retail Cost']],\n",
       " [['sum_q1_Bottles Sold'], ['Sum Volume Sold (Gallons)']],\n",
       " [['sum_q1_Bottles Sold'], ['Sum Volume Sold (Liters)']],\n",
       " [['sum_q1_Bottles Sold'], ['Mean Bottles Sold']],\n",
       " [['sum_q1_Bottles Sold'], ['Mean Retail Cost']],\n",
       " [['sum_q1_Bottles Sold'], ['Mean Volume Sold (Gallons)']],\n",
       " [['sum_q1_Bottles Sold'], ['Mean Volume Sold (Liters)']],\n",
       " [['sum_q1_Sale (Dollars)'], ['Sum Bottles Sold']],\n",
       " [['sum_q1_Sale (Dollars)'], ['Sum Retail Cost']],\n",
       " [['sum_q1_Sale (Dollars)'], ['Sum Volume Sold (Gallons)']],\n",
       " [['sum_q1_Sale (Dollars)'], ['Sum Volume Sold (Liters)']],\n",
       " [['sum_q1_Sale (Dollars)'], ['Mean Bottles Sold']],\n",
       " [['sum_q1_Sale (Dollars)'], ['Mean Retail Cost']],\n",
       " [['sum_q1_Sale (Dollars)'], ['Mean Volume Sold (Gallons)']],\n",
       " [['sum_q1_Sale (Dollars)'], ['Mean Volume Sold (Liters)']],\n",
       " [['sum_q1_Sale (Dollars)'], ['sum_q1_Bottles Sold']],\n",
       " [['sum_q1_Volume Sold (Liters)'], ['Sum Bottles Sold']],\n",
       " [['sum_q1_Volume Sold (Liters)'], ['Sum Retail Cost']],\n",
       " [['sum_q1_Volume Sold (Liters)'], ['Sum Volume Sold (Gallons)']],\n",
       " [['sum_q1_Volume Sold (Liters)'], ['Sum Volume Sold (Liters)']],\n",
       " [['sum_q1_Volume Sold (Liters)'], ['Mean Bottles Sold']],\n",
       " [['sum_q1_Volume Sold (Liters)'], ['Mean Retail Cost']],\n",
       " [['sum_q1_Volume Sold (Liters)'], ['Mean Volume Sold (Gallons)']],\n",
       " [['sum_q1_Volume Sold (Liters)'], ['Mean Volume Sold (Liters)']],\n",
       " [['sum_q1_Volume Sold (Liters)'], ['sum_q1_Bottles Sold']],\n",
       " [['sum_q1_Volume Sold (Liters)'], ['sum_q1_Sale (Dollars)']]]"
      ]
     },
     "execution_count": 52,
     "metadata": {},
     "output_type": "execute_result"
    }
   ],
   "source": [
    "#making pairs of xs\n",
    "pairs = []\n",
    "for first in range(len(xs)):\n",
    "    for second in range(len(xs)):\n",
    "        if first > second:\n",
    "            pairs.append([xs[first], xs[second]])\n",
    "\n",
    "pairs"
   ]
  },
  {
   "cell_type": "code",
   "execution_count": 53,
   "metadata": {
    "collapsed": false,
    "scrolled": true
   },
   "outputs": [
    {
     "data": {
      "image/png": "[encoded data removed]",
      "text/plain": [
       "<matplotlib.figure.Figure at 0x112a0fa90>"
      ]
     },
     "metadata": {},
     "output_type": "display_data"
    },
    {
     "name": "stdout",
     "output_type": "stream",
     "text": [
      "Score:  0.95429431425\n"
     ]
    }
   ],
   "source": [
    "# Now testing on all the variables I identified earlier\n",
    "y = sales_totals_2015['sum Sale (Dollars)']\n",
    "X = sales_totals_2015[['Sum Bottles Sold']]\n",
    "\n",
    "lm = linear_model.LinearRegression()\n",
    "model = lm.fit(X, y)\n",
    "predictions = lm.predict(X)\n",
    "\n",
    "plt.scatter(y, predictions)\n",
    "plt.xlabel('sum Sale (Dollars)')\n",
    "plt.ylabel('Sum Bottles Sold')\n",
    "plt.show()\n",
    "print 'Score: ', model.score(X, y)             "
   ]
  },
  {
   "cell_type": "code",
   "execution_count": 54,
   "metadata": {
    "collapsed": false
   },
   "outputs": [
    {
     "data": {
      "image/png": "[encoded data removed]",
      "text/plain": [
       "<matplotlib.figure.Figure at 0x112a0fc50>"
      ]
     },
     "metadata": {},
     "output_type": "display_data"
    },
    {
     "name": "stdout",
     "output_type": "stream",
     "text": [
      "Score:  0.556159902205\n"
     ]
    }
   ],
   "source": [
    "# Now testing on all the variables I identified earlier\n",
    "y = sales_totals_2015['sum Sale (Dollars)']\n",
    "X = sales_totals_2015[['Sum Retail Cost']]\n",
    "\n",
    "lm = linear_model.LinearRegression()\n",
    "model = lm.fit(X, y)\n",
    "predictions = lm.predict(X)\n",
    "\n",
    "plt.scatter(y, predictions)\n",
    "plt.xlabel('sum Sale (Dollars)')\n",
    "plt.ylabel('Sum Retail Cost')\n",
    "plt.show()\n",
    "print 'Score: ', model.score(X, y)   "
   ]
  },
  {
   "cell_type": "code",
   "execution_count": 55,
   "metadata": {
    "collapsed": false
   },
   "outputs": [
    {
     "data": {
      "image/png": "[encoded data removed]",
      "text/plain": [
       "<matplotlib.figure.Figure at 0x112a0f410>"
      ]
     },
     "metadata": {},
     "output_type": "display_data"
    },
    {
     "name": "stdout",
     "output_type": "stream",
     "text": [
      "Score:  0.970884487889\n"
     ]
    }
   ],
   "source": [
    "# Now testing on all the variables I identified earlier\n",
    "y = sales_totals_2015['sum Sale (Dollars)']\n",
    "X = sales_totals_2015[['Sum Volume Sold (Gallons)']]\n",
    "\n",
    "lm = linear_model.LinearRegression()\n",
    "model = lm.fit(X, y)\n",
    "predictions = lm.predict(X)\n",
    "\n",
    "plt.scatter(y, predictions)\n",
    "plt.xlabel('sum Sale (Dollars)')\n",
    "plt.ylabel('Sum Volume Sold (Gallons)')\n",
    "plt.show()\n",
    "print 'Score: ', model.score(X, y)   "
   ]
  },
  {
   "cell_type": "code",
   "execution_count": 56,
   "metadata": {
    "collapsed": false
   },
   "outputs": [
    {
     "data": {
      "image/png": "[encoded data removed]",
      "text/plain": [
       "<matplotlib.figure.Figure at 0x112d5d210>"
      ]
     },
     "metadata": {},
     "output_type": "display_data"
    },
    {
     "name": "stdout",
     "output_type": "stream",
     "text": [
      "Score:  0.970875697551\n"
     ]
    }
   ],
   "source": [
    "# Now testing on all the variables I identified earlier\n",
    "y = sales_totals_2015['sum Sale (Dollars)']\n",
    "X = sales_totals_2015[['Sum Volume Sold (Liters)']]\n",
    "\n",
    "lm = linear_model.LinearRegression()\n",
    "model = lm.fit(X, y)\n",
    "predictions = lm.predict(X)\n",
    "\n",
    "plt.scatter(y, predictions)\n",
    "plt.xlabel('sum Sale (Dollars)')\n",
    "plt.ylabel('Sum Volume Sold (Liters)')\n",
    "plt.show()\n",
    "print 'Score: ', model.score(X, y)   "
   ]
  },
  {
   "cell_type": "code",
   "execution_count": 57,
   "metadata": {
    "collapsed": false
   },
   "outputs": [
    {
     "data": {
      "image/png": "[encoded data removed]",
      "text/plain": [
       "<matplotlib.figure.Figure at 0x112d0ced0>"
      ]
     },
     "metadata": {},
     "output_type": "display_data"
    },
    {
     "name": "stdout",
     "output_type": "stream",
     "text": [
      "Score:  0.0833850407302\n"
     ]
    }
   ],
   "source": [
    "# Now testing on all the variables I identified earlier\n",
    "y = sales_totals_2015['sum Sale (Dollars)']\n",
    "X = sales_totals_2015[['Mean Retail Cost']]\n",
    "\n",
    "lm = linear_model.LinearRegression()\n",
    "model = lm.fit(X, y)\n",
    "predictions = lm.predict(X)\n",
    "\n",
    "plt.scatter(y, predictions)\n",
    "plt.xlabel('sum Sale (Dollars)')\n",
    "plt.ylabel('Mean Retail Cost')\n",
    "plt.show()\n",
    "print 'Score: ', model.score(X, y)   "
   ]
  },
  {
   "cell_type": "code",
   "execution_count": 58,
   "metadata": {
    "collapsed": false
   },
   "outputs": [
    {
     "data": {
      "image/png": "[encoded data removed]",
      "text/plain": [
       "<matplotlib.figure.Figure at 0x11ecaf650>"
      ]
     },
     "metadata": {},
     "output_type": "display_data"
    },
    {
     "name": "stdout",
     "output_type": "stream",
     "text": [
      "Score:  0.0511985414968\n"
     ]
    }
   ],
   "source": [
    "# Now testing on all the variables I identified earlier\n",
    "y = sales_totals_2015['sum Sale (Dollars)']\n",
    "X = sales_totals_2015[['Mean Bottles Sold']]\n",
    "\n",
    "lm = linear_model.LinearRegression()\n",
    "model = lm.fit(X, y)\n",
    "predictions = lm.predict(X)\n",
    "\n",
    "plt.scatter(y, predictions)\n",
    "plt.xlabel('sum Sale (Dollars)')\n",
    "plt.ylabel('Mean Bottles Sold')\n",
    "plt.show()\n",
    "print 'Score: ', model.score(X, y)   "
   ]
  },
  {
   "cell_type": "code",
   "execution_count": 59,
   "metadata": {
    "collapsed": false,
    "scrolled": true
   },
   "outputs": [
    {
     "data": {
      "image/png": "[encoded data removed]",
      "text/plain": [
       "<matplotlib.figure.Figure at 0x112a19390>"
      ]
     },
     "metadata": {},
     "output_type": "display_data"
    },
    {
     "name": "stdout",
     "output_type": "stream",
     "text": [
      "Score:  0.11252018909\n"
     ]
    }
   ],
   "source": [
    "# Now testing on all the variables I identified earlier\n",
    "y = sales_totals_2015['sum Sale (Dollars)']\n",
    "X = sales_totals_2015[['Mean Volume Sold (Gallons)']]\n",
    "\n",
    "lm = linear_model.LinearRegression()\n",
    "model = lm.fit(X, y)\n",
    "predictions = lm.predict(X)\n",
    "\n",
    "plt.scatter(y, predictions)\n",
    "plt.xlabel('sum Sale (Dollars)')\n",
    "plt.ylabel('Mean Volume Sold (Gallons)')\n",
    "plt.show()\n",
    "print 'Score: ', model.score(X, y)   "
   ]
  },
  {
   "cell_type": "code",
   "execution_count": 60,
   "metadata": {
    "collapsed": false,
    "scrolled": true
   },
   "outputs": [
    {
     "data": {
      "image/png": "[encoded data removed]",
      "text/plain": [
       "<matplotlib.figure.Figure at 0x112a775d0>"
      ]
     },
     "metadata": {},
     "output_type": "display_data"
    },
    {
     "name": "stdout",
     "output_type": "stream",
     "text": [
      "Score:  0.112539188157\n"
     ]
    }
   ],
   "source": [
    "# Now testing on all the variables I identified earlier\n",
    "y = sales_totals_2015['sum Sale (Dollars)']\n",
    "X = sales_totals_2015[['Mean Volume Sold (Liters)']]\n",
    "\n",
    "lm = linear_model.LinearRegression()\n",
    "model = lm.fit(X, y)\n",
    "predictions = lm.predict(X)\n",
    "\n",
    "plt.scatter(y, predictions)\n",
    "plt.xlabel('sum Sale (Dollars)')\n",
    "plt.ylabel('Mean Volume Sold (Liters)')\n",
    "plt.show()\n",
    "print 'Score: ', model.score(X, y)"
   ]
  },
  {
   "cell_type": "code",
   "execution_count": 61,
   "metadata": {
    "collapsed": false
   },
   "outputs": [
    {
     "data": {
      "text/plain": [
       "['Sum Bottles Sold', 'Sum Volume Sold (Liters)', 'Sum Retail Cost']"
      ]
     },
     "execution_count": 61,
     "metadata": {},
     "output_type": "execute_result"
    }
   ],
   "source": [
    "#setting new x to 3 predictive variables\n",
    "X3 = ['Sum Bottles Sold', 'Sum Volume Sold (Liters)', 'Sum Retail Cost']\n",
    "X3"
   ]
  },
  {
   "cell_type": "code",
   "execution_count": 62,
   "metadata": {
    "collapsed": false,
    "scrolled": true
   },
   "outputs": [
    {
     "data": {
      "image/png": "[encoded data removed]",
      "text/plain": [
       "<matplotlib.figure.Figure at 0x112a77150>"
      ]
     },
     "metadata": {},
     "output_type": "display_data"
    },
    {
     "name": "stdout",
     "output_type": "stream",
     "text": [
      "Score:  0.975854699145\n"
     ]
    }
   ],
   "source": [
    "# Testing a model withe most predictive variables from above tests\n",
    "y = sales_totals_2015['sum Sale (Dollars)']\n",
    "X = sales_totals_2015[X3]\n",
    "\n",
    "lm = linear_model.LinearRegression()\n",
    "model = lm.fit(X, y)\n",
    "predictions = lm.predict(X)\n",
    "\n",
    "plt.scatter(y, predictions)\n",
    "plt.xlabel(\"True Values\")\n",
    "plt.ylabel(\"Predictions\")\n",
    "plt.show()\n",
    "print 'Score: ', model.score(X, y)"
   ]
  },
  {
   "cell_type": "code",
   "execution_count": 63,
   "metadata": {
    "collapsed": false
   },
   "outputs": [
    {
     "name": "stdout",
     "output_type": "stream",
     "text": [
      "Average score after 500 simulations:  0.965970393581\n"
     ]
    }
   ],
   "source": [
    "X3_r2_list = []\n",
    "for i in range(500):\n",
    "    X_train, X_test, y_train, y_test = train_test_split(X, y, test_size=0.4)\n",
    "    lm = linear_model.LinearRegression()\n",
    "\n",
    "    model = lm.fit(X_train, y_train)\n",
    "    predictions = lm.predict(X_test)\n",
    "    X3_r2_list.append(model.score(X_test, y_test))\n",
    "\n",
    "print 'Average score after 500 simulations: ', np.mean(X3_r2_list)"
   ]
  },
  {
   "cell_type": "code",
   "execution_count": 64,
   "metadata": {
    "collapsed": false,
    "scrolled": true
   },
   "outputs": [
    {
     "name": "stdout",
     "output_type": "stream",
     "text": [
      "Cross-validated scores: [ 0.9698867   0.9317924   0.89876727  0.9028731   0.98498697  0.62134242]\n",
      "Cross-Predicted Accuracy: 0.969954201926\n"
     ]
    },
    {
     "data": {
      "image/png": "[encoded data removed]",
      "text/plain": [
       "<matplotlib.figure.Figure at 0x11dae7710>"
      ]
     },
     "metadata": {},
     "output_type": "display_data"
    }
   ],
   "source": [
    "# Three variable model cross-validation\n",
    "from sklearn.cross_validation import cross_val_score, cross_val_predict\n",
    "from sklearn import metrics\n",
    "\n",
    "X = sales_totals_2015[X3]\n",
    "\n",
    "# Perform 6-fold cross validation\n",
    "scores = cross_val_score(lm, X, y, cv=6)\n",
    "print \"Cross-validated scores:\", scores\n",
    "# Make cross validated predictions\n",
    "predictions = cross_val_predict(lm, X, y, cv=6)\n",
    "plt.scatter(y, predictions)\n",
    "accuracy = metrics.r2_score(y, predictions)\n",
    "print \"Cross-Predicted Accuracy:\", accuracy"
   ]
  },
  {
   "cell_type": "code",
   "execution_count": 65,
   "metadata": {
    "collapsed": false,
    "scrolled": true
   },
   "outputs": [
    {
     "data": {
      "text/html": [
       "<div>\n",
       "<table border=\"1\" class=\"dataframe\">\n",
       "  <thead>\n",
       "    <tr style=\"text-align: right;\">\n",
       "      <th></th>\n",
       "      <th>Store Number</th>\n",
       "      <th>County</th>\n",
       "      <th>sum Bottles Sold</th>\n",
       "      <th>sum Sale (Dollars)</th>\n",
       "      <th>sum Volume Sold (Gallons)</th>\n",
       "      <th>sum Volume Sold (Liters)</th>\n",
       "      <th>mean Bottles Sold</th>\n",
       "      <th>mean Sale (Dollars)</th>\n",
       "      <th>mean Volume Sold (Gallons)</th>\n",
       "      <th>mean Volume Sold (Liters)</th>\n",
       "    </tr>\n",
       "  </thead>\n",
       "  <tbody>\n",
       "    <tr>\n",
       "      <th>0</th>\n",
       "      <td>2106</td>\n",
       "      <td>Black Hawk</td>\n",
       "      <td>23605</td>\n",
       "      <td>337804.05</td>\n",
       "      <td>5886.01</td>\n",
       "      <td>22277.95</td>\n",
       "      <td>19.206672</td>\n",
       "      <td>274.860903</td>\n",
       "      <td>4.789268</td>\n",
       "      <td>18.126892</td>\n",
       "    </tr>\n",
       "    <tr>\n",
       "      <th>1</th>\n",
       "      <td>2113</td>\n",
       "      <td>Webster</td>\n",
       "      <td>1703</td>\n",
       "      <td>21736.63</td>\n",
       "      <td>424.70</td>\n",
       "      <td>1608.07</td>\n",
       "      <td>4.333333</td>\n",
       "      <td>55.309491</td>\n",
       "      <td>1.080662</td>\n",
       "      <td>4.091781</td>\n",
       "    </tr>\n",
       "    <tr>\n",
       "      <th>2</th>\n",
       "      <td>2130</td>\n",
       "      <td>Black Hawk</td>\n",
       "      <td>19832</td>\n",
       "      <td>306942.27</td>\n",
       "      <td>4801.01</td>\n",
       "      <td>18172.75</td>\n",
       "      <td>19.087584</td>\n",
       "      <td>295.420857</td>\n",
       "      <td>4.620799</td>\n",
       "      <td>17.490616</td>\n",
       "    </tr>\n",
       "    <tr>\n",
       "      <th>3</th>\n",
       "      <td>2152</td>\n",
       "      <td>Cerro Gordo</td>\n",
       "      <td>749</td>\n",
       "      <td>9307.75</td>\n",
       "      <td>211.07</td>\n",
       "      <td>799.39</td>\n",
       "      <td>3.435780</td>\n",
       "      <td>42.696101</td>\n",
       "      <td>0.968211</td>\n",
       "      <td>3.666927</td>\n",
       "    </tr>\n",
       "    <tr>\n",
       "      <th>4</th>\n",
       "      <td>2178</td>\n",
       "      <td>Allamakee</td>\n",
       "      <td>4539</td>\n",
       "      <td>58939.90</td>\n",
       "      <td>1216.93</td>\n",
       "      <td>4606.64</td>\n",
       "      <td>7.577629</td>\n",
       "      <td>98.397162</td>\n",
       "      <td>2.031603</td>\n",
       "      <td>7.690551</td>\n",
       "    </tr>\n",
       "  </tbody>\n",
       "</table>\n",
       "</div>"
      ],
      "text/plain": [
       "   Store Number       County  sum Bottles Sold  sum Sale (Dollars)  \\\n",
       "0          2106   Black Hawk             23605           337804.05   \n",
       "1          2113      Webster              1703            21736.63   \n",
       "2          2130   Black Hawk             19832           306942.27   \n",
       "3          2152  Cerro Gordo               749             9307.75   \n",
       "4          2178    Allamakee              4539            58939.90   \n",
       "\n",
       "   sum Volume Sold (Gallons)  sum Volume Sold (Liters)  mean Bottles Sold  \\\n",
       "0                    5886.01                  22277.95          19.206672   \n",
       "1                     424.70                   1608.07           4.333333   \n",
       "2                    4801.01                  18172.75          19.087584   \n",
       "3                     211.07                    799.39           3.435780   \n",
       "4                    1216.93                   4606.64           7.577629   \n",
       "\n",
       "   mean Sale (Dollars)  mean Volume Sold (Gallons)  mean Volume Sold (Liters)  \n",
       "0           274.860903                    4.789268                  18.126892  \n",
       "1            55.309491                    1.080662                   4.091781  \n",
       "2           295.420857                    4.620799                  17.490616  \n",
       "3            42.696101                    0.968211                   3.666927  \n",
       "4            98.397162                    2.031603                   7.690551  "
      ]
     },
     "execution_count": 65,
     "metadata": {},
     "output_type": "execute_result"
    }
   ],
   "source": [
    "# Create pivot table for 2016 sales\n",
    "sales_totals_2016 = pd.pivot_table(df[(df['Year'] == 2016)], \n",
    "                                   values=['State Bottle Retail (Dollars)', 'Bottles Sold',\n",
    "                                           'Volume Sold (Liters)', 'Volume Sold (Gallons)', \n",
    "                                           'Sale (Dollars)'], \n",
    "                                   index=['Store Number', 'County'], aggfunc=[np.sum, np.mean])\n",
    "sales_totals_2016.reset_index(inplace=True)\n",
    "sales_totals_2016.columns = [' '.join(col).strip() for col in sales_totals_2016.columns.values]\n",
    "sales_totals_2016.head()"
   ]
  },
  {
   "cell_type": "code",
   "execution_count": 66,
   "metadata": {
    "collapsed": false
   },
   "outputs": [],
   "source": [
    "# Predict total sales based off of the first three months of 2016 data\n",
    "sales_predictions_2016 = sales_totals_2016[['sum Bottles Sold', 'sum Sale (Dollars)', 'sum Volume Sold (Liters)']]\n",
    "predictions_2016 = model.predict(sales_predictions_2016)"
   ]
  },
  {
   "cell_type": "code",
   "execution_count": 67,
   "metadata": {
    "collapsed": false,
    "scrolled": true
   },
   "outputs": [
    {
     "name": "stdout",
     "output_type": "stream",
     "text": [
      "(1290,)\n",
      "(1290,)\n"
     ]
    },
    {
     "data": {
      "text/html": [
       "<div>\n",
       "<table border=\"1\" class=\"dataframe\">\n",
       "  <thead>\n",
       "    <tr style=\"text-align: right;\">\n",
       "      <th></th>\n",
       "      <th>Store Number</th>\n",
       "      <th>County</th>\n",
       "      <th>sum Bottles Sold</th>\n",
       "      <th>sum Sale (Dollars)</th>\n",
       "      <th>sum Volume Sold (Gallons)</th>\n",
       "      <th>sum Volume Sold (Liters)</th>\n",
       "      <th>mean Bottles Sold</th>\n",
       "      <th>mean Sale (Dollars)</th>\n",
       "      <th>mean Volume Sold (Gallons)</th>\n",
       "      <th>mean Volume Sold (Liters)</th>\n",
       "      <th>Predicted 2016 Sales</th>\n",
       "    </tr>\n",
       "  </thead>\n",
       "  <tbody>\n",
       "    <tr>\n",
       "      <th>0</th>\n",
       "      <td>2106</td>\n",
       "      <td>Black Hawk</td>\n",
       "      <td>23605</td>\n",
       "      <td>337804.05</td>\n",
       "      <td>5886.01</td>\n",
       "      <td>22277.95</td>\n",
       "      <td>19.206672</td>\n",
       "      <td>274.860903</td>\n",
       "      <td>4.789268</td>\n",
       "      <td>18.126892</td>\n",
       "      <td>1.019905e+06</td>\n",
       "    </tr>\n",
       "    <tr>\n",
       "      <th>1</th>\n",
       "      <td>2113</td>\n",
       "      <td>Webster</td>\n",
       "      <td>1703</td>\n",
       "      <td>21736.63</td>\n",
       "      <td>424.70</td>\n",
       "      <td>1608.07</td>\n",
       "      <td>4.333333</td>\n",
       "      <td>55.309491</td>\n",
       "      <td>1.080662</td>\n",
       "      <td>4.091781</td>\n",
       "      <td>6.384764e+04</td>\n",
       "    </tr>\n",
       "    <tr>\n",
       "      <th>2</th>\n",
       "      <td>2130</td>\n",
       "      <td>Black Hawk</td>\n",
       "      <td>19832</td>\n",
       "      <td>306942.27</td>\n",
       "      <td>4801.01</td>\n",
       "      <td>18172.75</td>\n",
       "      <td>19.087584</td>\n",
       "      <td>295.420857</td>\n",
       "      <td>4.620799</td>\n",
       "      <td>17.490616</td>\n",
       "      <td>9.260137e+05</td>\n",
       "    </tr>\n",
       "    <tr>\n",
       "      <th>3</th>\n",
       "      <td>2152</td>\n",
       "      <td>Cerro Gordo</td>\n",
       "      <td>749</td>\n",
       "      <td>9307.75</td>\n",
       "      <td>211.07</td>\n",
       "      <td>799.39</td>\n",
       "      <td>3.435780</td>\n",
       "      <td>42.696101</td>\n",
       "      <td>0.968211</td>\n",
       "      <td>3.666927</td>\n",
       "      <td>2.620451e+04</td>\n",
       "    </tr>\n",
       "    <tr>\n",
       "      <th>4</th>\n",
       "      <td>2178</td>\n",
       "      <td>Allamakee</td>\n",
       "      <td>4539</td>\n",
       "      <td>58939.90</td>\n",
       "      <td>1216.93</td>\n",
       "      <td>4606.64</td>\n",
       "      <td>7.577629</td>\n",
       "      <td>98.397162</td>\n",
       "      <td>2.031603</td>\n",
       "      <td>7.690551</td>\n",
       "      <td>1.764345e+05</td>\n",
       "    </tr>\n",
       "  </tbody>\n",
       "</table>\n",
       "</div>"
      ],
      "text/plain": [
       "   Store Number       County  sum Bottles Sold  sum Sale (Dollars)  \\\n",
       "0          2106   Black Hawk             23605           337804.05   \n",
       "1          2113      Webster              1703            21736.63   \n",
       "2          2130   Black Hawk             19832           306942.27   \n",
       "3          2152  Cerro Gordo               749             9307.75   \n",
       "4          2178    Allamakee              4539            58939.90   \n",
       "\n",
       "   sum Volume Sold (Gallons)  sum Volume Sold (Liters)  mean Bottles Sold  \\\n",
       "0                    5886.01                  22277.95          19.206672   \n",
       "1                     424.70                   1608.07           4.333333   \n",
       "2                    4801.01                  18172.75          19.087584   \n",
       "3                     211.07                    799.39           3.435780   \n",
       "4                    1216.93                   4606.64           7.577629   \n",
       "\n",
       "   mean Sale (Dollars)  mean Volume Sold (Gallons)  mean Volume Sold (Liters)  \\\n",
       "0           274.860903                    4.789268                  18.126892   \n",
       "1            55.309491                    1.080662                   4.091781   \n",
       "2           295.420857                    4.620799                  17.490616   \n",
       "3            42.696101                    0.968211                   3.666927   \n",
       "4            98.397162                    2.031603                   7.690551   \n",
       "\n",
       "   Predicted 2016 Sales  \n",
       "0          1.019905e+06  \n",
       "1          6.384764e+04  \n",
       "2          9.260137e+05  \n",
       "3          2.620451e+04  \n",
       "4          1.764345e+05  "
      ]
     },
     "execution_count": 67,
     "metadata": {},
     "output_type": "execute_result"
    }
   ],
   "source": [
    "print predictions_2016.shape\n",
    "print sales_totals_2016['sum Sale (Dollars)'].shape\n",
    "\n",
    "sales_totals_2016['Predicted 2016 Sales'] = predictions_2016\n",
    "sales_totals_2016.head()"
   ]
  },
  {
   "cell_type": "code",
   "execution_count": 68,
   "metadata": {
    "collapsed": false,
    "scrolled": true
   },
   "outputs": [
    {
     "data": {
      "text/html": [
       "<div>\n",
       "<table border=\"1\" class=\"dataframe\">\n",
       "  <thead>\n",
       "    <tr style=\"text-align: right;\">\n",
       "      <th></th>\n",
       "      <th>Store Number</th>\n",
       "      <th>County</th>\n",
       "      <th>Q1 2016 Sales</th>\n",
       "      <th>Projected 2016 Sales</th>\n",
       "    </tr>\n",
       "  </thead>\n",
       "  <tbody>\n",
       "    <tr>\n",
       "      <th>0</th>\n",
       "      <td>2106</td>\n",
       "      <td>Black Hawk</td>\n",
       "      <td>337804.05</td>\n",
       "      <td>1.019905e+06</td>\n",
       "    </tr>\n",
       "    <tr>\n",
       "      <th>1</th>\n",
       "      <td>2113</td>\n",
       "      <td>Webster</td>\n",
       "      <td>21736.63</td>\n",
       "      <td>6.384764e+04</td>\n",
       "    </tr>\n",
       "    <tr>\n",
       "      <th>2</th>\n",
       "      <td>2130</td>\n",
       "      <td>Black Hawk</td>\n",
       "      <td>306942.27</td>\n",
       "      <td>9.260137e+05</td>\n",
       "    </tr>\n",
       "    <tr>\n",
       "      <th>3</th>\n",
       "      <td>2152</td>\n",
       "      <td>Cerro Gordo</td>\n",
       "      <td>9307.75</td>\n",
       "      <td>2.620451e+04</td>\n",
       "    </tr>\n",
       "    <tr>\n",
       "      <th>4</th>\n",
       "      <td>2178</td>\n",
       "      <td>Allamakee</td>\n",
       "      <td>58939.90</td>\n",
       "      <td>1.764345e+05</td>\n",
       "    </tr>\n",
       "    <tr>\n",
       "      <th>5</th>\n",
       "      <td>2190</td>\n",
       "      <td>Polk</td>\n",
       "      <td>332979.03</td>\n",
       "      <td>1.007019e+06</td>\n",
       "    </tr>\n",
       "    <tr>\n",
       "      <th>6</th>\n",
       "      <td>2191</td>\n",
       "      <td>Lee</td>\n",
       "      <td>302592.88</td>\n",
       "      <td>9.123013e+05</td>\n",
       "    </tr>\n",
       "    <tr>\n",
       "      <th>7</th>\n",
       "      <td>2200</td>\n",
       "      <td>Sac</td>\n",
       "      <td>55315.23</td>\n",
       "      <td>1.652762e+05</td>\n",
       "    </tr>\n",
       "    <tr>\n",
       "      <th>8</th>\n",
       "      <td>2228</td>\n",
       "      <td>Madison</td>\n",
       "      <td>42398.57</td>\n",
       "      <td>1.265485e+05</td>\n",
       "    </tr>\n",
       "    <tr>\n",
       "      <th>9</th>\n",
       "      <td>2233</td>\n",
       "      <td>Dickinson</td>\n",
       "      <td>56241.57</td>\n",
       "      <td>1.681627e+05</td>\n",
       "    </tr>\n",
       "    <tr>\n",
       "      <th>10</th>\n",
       "      <td>2238</td>\n",
       "      <td>Polk</td>\n",
       "      <td>3536.14</td>\n",
       "      <td>8.687617e+03</td>\n",
       "    </tr>\n",
       "    <tr>\n",
       "      <th>11</th>\n",
       "      <td>2248</td>\n",
       "      <td>Polk</td>\n",
       "      <td>137416.93</td>\n",
       "      <td>4.135522e+05</td>\n",
       "    </tr>\n",
       "    <tr>\n",
       "      <th>12</th>\n",
       "      <td>2285</td>\n",
       "      <td>Johnson</td>\n",
       "      <td>158700.11</td>\n",
       "      <td>4.772504e+05</td>\n",
       "    </tr>\n",
       "    <tr>\n",
       "      <th>13</th>\n",
       "      <td>2290</td>\n",
       "      <td>Buena Vista</td>\n",
       "      <td>125731.51</td>\n",
       "      <td>3.785886e+05</td>\n",
       "    </tr>\n",
       "    <tr>\n",
       "      <th>14</th>\n",
       "      <td>2327</td>\n",
       "      <td>Adams</td>\n",
       "      <td>21834.49</td>\n",
       "      <td>6.414830e+04</td>\n",
       "    </tr>\n",
       "    <tr>\n",
       "      <th>15</th>\n",
       "      <td>2353</td>\n",
       "      <td>Howard</td>\n",
       "      <td>39609.55</td>\n",
       "      <td>1.177756e+05</td>\n",
       "    </tr>\n",
       "    <tr>\n",
       "      <th>16</th>\n",
       "      <td>2413</td>\n",
       "      <td>Dubuque</td>\n",
       "      <td>204038.87</td>\n",
       "      <td>6.148325e+05</td>\n",
       "    </tr>\n",
       "    <tr>\n",
       "      <th>17</th>\n",
       "      <td>2445</td>\n",
       "      <td>Pottawattamie</td>\n",
       "      <td>15689.80</td>\n",
       "      <td>4.560352e+04</td>\n",
       "    </tr>\n",
       "    <tr>\n",
       "      <th>18</th>\n",
       "      <td>2448</td>\n",
       "      <td>Warren</td>\n",
       "      <td>48545.69</td>\n",
       "      <td>1.448272e+05</td>\n",
       "    </tr>\n",
       "    <tr>\n",
       "      <th>19</th>\n",
       "      <td>2459</td>\n",
       "      <td>Guthrie</td>\n",
       "      <td>16320.74</td>\n",
       "      <td>4.742159e+04</td>\n",
       "    </tr>\n",
       "  </tbody>\n",
       "</table>\n",
       "</div>"
      ],
      "text/plain": [
       "    Store Number         County  Q1 2016 Sales  Projected 2016 Sales\n",
       "0           2106     Black Hawk      337804.05          1.019905e+06\n",
       "1           2113        Webster       21736.63          6.384764e+04\n",
       "2           2130     Black Hawk      306942.27          9.260137e+05\n",
       "3           2152    Cerro Gordo        9307.75          2.620451e+04\n",
       "4           2178      Allamakee       58939.90          1.764345e+05\n",
       "5           2190           Polk      332979.03          1.007019e+06\n",
       "6           2191            Lee      302592.88          9.123013e+05\n",
       "7           2200            Sac       55315.23          1.652762e+05\n",
       "8           2228        Madison       42398.57          1.265485e+05\n",
       "9           2233      Dickinson       56241.57          1.681627e+05\n",
       "10          2238           Polk        3536.14          8.687617e+03\n",
       "11          2248           Polk      137416.93          4.135522e+05\n",
       "12          2285        Johnson      158700.11          4.772504e+05\n",
       "13          2290    Buena Vista      125731.51          3.785886e+05\n",
       "14          2327          Adams       21834.49          6.414830e+04\n",
       "15          2353         Howard       39609.55          1.177756e+05\n",
       "16          2413        Dubuque      204038.87          6.148325e+05\n",
       "17          2445  Pottawattamie       15689.80          4.560352e+04\n",
       "18          2448         Warren       48545.69          1.448272e+05\n",
       "19          2459        Guthrie       16320.74          4.742159e+04"
      ]
     },
     "execution_count": 68,
     "metadata": {},
     "output_type": "execute_result"
    }
   ],
   "source": [
    "projected_2016_sales = sales_totals_2016[['Store Number', 'County', 'sum Sale (Dollars)', 'Predicted 2016 Sales']]\n",
    "projected_2016_sales.columns = ['Store Number', 'County', 'Q1 2016 Sales', 'Projected 2016 Sales']\n",
    "projected_2016_sales.head(20)"
   ]
  },
  {
   "cell_type": "markdown",
   "metadata": {},
   "source": [
    "# Present the Results\n",
    "\n",
    "Present your conclusions and results. If you have more than one interesting model feel free to include more than one along with a discussion. Use your work in this notebook to prepare your write-up."
   ]
  },
  {
   "cell_type": "markdown",
   "metadata": {
    "collapsed": true
   },
   "source": [
    "https://davidrnovak.wordpress.com/2016/11/25/dsi-project-3/\n",
    "password: DSI"
   ]
  }
 ],
 "metadata": {
  "anaconda-cloud": {},
  "kernelspec": {
   "display_name": "Python [Root]",
   "language": "python",
   "name": "Python [Root]"
  },
  "language_info": {
   "codemirror_mode": {
    "name": "ipython",
    "version": 2
   },
   "file_extension": ".py",
   "mimetype": "text/x-python",
   "name": "python",
   "nbconvert_exporter": "python",
   "pygments_lexer": "ipython2",
   "version": "2.7.11"
  }
 },
 "nbformat": 4,
 "nbformat_minor": 0
}
